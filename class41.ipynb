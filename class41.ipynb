{
  "nbformat": 4,
  "nbformat_minor": 0,
  "metadata": {
    "colab": {
      "name": "class41.ipynb",
      "provenance": [],
      "authorship_tag": "ABX9TyMR2hksLF6qh04lPb6UlVH1",
      "include_colab_link": true
    },
    "kernelspec": {
      "name": "python3",
      "display_name": "Python 3"
    }
  },
  "cells": [
    {
      "cell_type": "markdown",
      "metadata": {
        "id": "view-in-github",
        "colab_type": "text"
      },
      "source": [
        "<a href=\"https://colab.research.google.com/github/Sathyamlai/python/blob/master/class41.ipynb\" target=\"_parent\"><img src=\"https://colab.research.google.com/assets/colab-badge.svg\" alt=\"Open In Colab\"/></a>"
      ]
    },
    {
      "cell_type": "code",
      "metadata": {
        "id": "M1VLkJjGwxcs",
        "colab_type": "code",
        "colab": {}
      },
      "source": [
        "import numpy\n",
        "#pass the unsclaed matrix as input to get scaled matrix"
      ],
      "execution_count": 0,
      "outputs": []
    },
    {
      "cell_type": "code",
      "metadata": {
        "id": "kTI2uTOUxHzc",
        "colab_type": "code",
        "colab": {}
      },
      "source": [
        "#(x-x.mean())/sd(x)\n",
        "\n",
        "#function for standard deviation\n",
        "def sd(x):\n",
        "  nr = (x-x.mean())\n",
        "  nr2 = nr**2\n",
        "  de = (x.size-1)\n",
        "  res = (nr2/de)**0.5\n",
        "  #res = (((x-x.mean())**2)/(x.size-1))**0.5\n",
        "  return res"
      ],
      "execution_count": 0,
      "outputs": []
    },
    {
      "cell_type": "code",
      "metadata": {
        "id": "xYARFmOCydOL",
        "colab_type": "code",
        "colab": {}
      },
      "source": [
        "#second scaling techinque\n",
        "#(x-x.mean())/sd(x)\n",
        "def scale(x):\n",
        "  num = x-x.mean()\n",
        "  den = sd(x)\n",
        "  res = num / den\n",
        "  return res"
      ],
      "execution_count": 0,
      "outputs": []
    },
    {
      "cell_type": "code",
      "metadata": {
        "id": "F-a37rb0zBtV",
        "colab_type": "code",
        "colab": {}
      },
      "source": [
        "def scaleMatrix(x):\n",
        "  ncol = x.shape[1]\n",
        "  for i in range(ncol):\n",
        "    if i == 0:\n",
        "      continue\n",
        "    c = x[:,i]\n",
        "    x[:,i] = scale(c)\n",
        "    return x\n"
      ],
      "execution_count": 0,
      "outputs": []
    }
  ]
}