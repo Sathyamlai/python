{
  "nbformat": 4,
  "nbformat_minor": 0,
  "metadata": {
    "colab": {
      "name": "class_24_25.ipynb",
      "provenance": [],
      "authorship_tag": "ABX9TyNNTbugsoZz27aMT9bADGVr",
      "include_colab_link": true
    },
    "kernelspec": {
      "name": "python3",
      "display_name": "Python 3"
    }
  },
  "cells": [
    {
      "cell_type": "markdown",
      "metadata": {
        "id": "view-in-github",
        "colab_type": "text"
      },
      "source": [
        "<a href=\"https://colab.research.google.com/github/Sathyamlai/python/blob/master/class_24_25.ipynb\" target=\"_parent\"><img src=\"https://colab.research.google.com/assets/colab-badge.svg\" alt=\"Open In Colab\"/></a>"
      ]
    },
    {
      "cell_type": "code",
      "metadata": {
        "id": "pMJOuhgW1ct9",
        "colab_type": "code",
        "colab": {
          "base_uri": "https://localhost:8080/",
          "height": 54
        },
        "outputId": "a7fdd28f-b870-41ed-e4ae-18143a764c1c"
      },
      "source": [
        "import numpy as np\n",
        "import pandas as pd\n",
        "'''\n",
        "\"id\",\"name\",\"age\",\"wgt\",\"hgt\",\"chol\"\n",
        "101,aaa,25,50,6.0,60\n",
        "102,bbb,30,55,5.9,62\n",
        "103,ccc,24,60,5.9,59\n",
        "104,ddd,27,80,5.5,80\n",
        "105,eee,34,90,5.7,85\n",
        "106,fff,30,56,6.0,60\n",
        "'''"
      ],
      "execution_count": 1,
      "outputs": [
        {
          "output_type": "execute_result",
          "data": {
            "text/plain": [
              "'\\n\"id\",\"name\",\"age\",\"wgt\",\"hgt\",\"chol\"\\n101,aaa,25,50,6.0,60\\n102,bbb,30,55,5.9,62\\n103,ccc,24,60,5.9,59\\n104,ddd,27,80,5.5,80\\n105,eee,34,90,5.7,85\\n106,fff,30,56,6.0,60\\n'"
            ]
          },
          "metadata": {
            "tags": []
          },
          "execution_count": 1
        }
      ]
    },
    {
      "cell_type": "code",
      "metadata": {
        "id": "kiLsYRrL1rXT",
        "colab_type": "code",
        "colab": {
          "resources": {
            "http://localhost:8080/nbextensions/google.colab/files.js": {
              "data": "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",
              "ok": true,
              "headers": [
                [
                  "content-type",
                  "application/javascript"
                ]
              ],
              "status": 200,
              "status_text": ""
            }
          },
          "base_uri": "https://localhost:8080/",
          "height": 75
        },
        "outputId": "050f2033-ef91-43b8-ca9c-1bc0887c6477"
      },
      "source": [
        "from google.colab import files\n",
        "uploaded = files.upload()"
      ],
      "execution_count": 2,
      "outputs": [
        {
          "output_type": "display_data",
          "data": {
            "text/html": [
              "\n",
              "     <input type=\"file\" id=\"files-393785e4-78d8-4853-85df-c40aca88ee67\" name=\"files[]\" multiple disabled />\n",
              "     <output id=\"result-393785e4-78d8-4853-85df-c40aca88ee67\">\n",
              "      Upload widget is only available when the cell has been executed in the\n",
              "      current browser session. Please rerun this cell to enable.\n",
              "      </output>\n",
              "      <script src=\"/nbextensions/google.colab/files.js\"></script> "
            ],
            "text/plain": [
              "<IPython.core.display.HTML object>"
            ]
          },
          "metadata": {
            "tags": []
          }
        },
        {
          "output_type": "stream",
          "text": [
            "Saving class24_25_patient.txt to class24_25_patient.txt\n"
          ],
          "name": "stdout"
        }
      ]
    },
    {
      "cell_type": "code",
      "metadata": {
        "id": "6iO5-fGz17Ui",
        "colab_type": "code",
        "colab": {
          "base_uri": "https://localhost:8080/",
          "height": 54
        },
        "outputId": "1fd63429-a93e-402a-9e4e-58d1106a936e"
      },
      "source": [
        "f=open('class24_25_patient.txt')\n",
        "h=f.readline()\n",
        "lines=f.readlines()\n",
        "\n",
        "print(lines)"
      ],
      "execution_count": 15,
      "outputs": [
        {
          "output_type": "stream",
          "text": [
            "['101,aaa,25,50,6.0,60\\n', '102,bbb,30,55,5.9,62\\n', '103,ccc,24,60,5.9,59\\n', '104,ddd,27,80,5.5,80\\n', '105,eee,34,90,5.7,85\\n', '106,fff,30,56,6.0,60']\n"
          ],
          "name": "stdout"
        }
      ]
    },
    {
      "cell_type": "code",
      "metadata": {
        "id": "PzXr9TSy2hbm",
        "colab_type": "code",
        "colab": {
          "base_uri": "https://localhost:8080/",
          "height": 68
        },
        "outputId": "c1bef883-7940-47a1-d021-1645a67b5445"
      },
      "source": [
        "x=[]\n",
        "y=[]\n",
        "for line in lines:\n",
        "  w=line.strip().split(\",\")\n",
        "  i=w[2:-1]\n",
        "  inputs = [float(v) for v in i ]\n",
        "  x.append(inputs)\n",
        "  y.append(float(w[-1]))\n",
        "print(x)\n",
        "print('***')\n",
        "print(y)"
      ],
      "execution_count": 18,
      "outputs": [
        {
          "output_type": "stream",
          "text": [
            "[[25.0, 50.0, 6.0], [30.0, 55.0, 5.9], [24.0, 60.0, 5.9], [27.0, 80.0, 5.5], [34.0, 90.0, 5.7], [30.0, 56.0, 6.0]]\n",
            "***\n",
            "[60.0, 62.0, 59.0, 80.0, 85.0, 60.0]\n"
          ],
          "name": "stdout"
        }
      ]
    },
    {
      "cell_type": "code",
      "metadata": {
        "id": "iPbmiyHu74Wn",
        "colab_type": "code",
        "colab": {
          "base_uri": "https://localhost:8080/",
          "height": 328
        },
        "outputId": "99f3cd77-5bca-421d-b2f4-37541319f932"
      },
      "source": [
        "x=np.array(x)\n",
        "y=np.array(y)\n",
        "x.shape\n",
        "X = np.ones((x.shape[0],x.shape[1]+1))\n",
        "print(X)\n",
        "X[:,1:]=x\n",
        "print(X)\n",
        "Y=np.c_[y]\n",
        "print(Y)"
      ],
      "execution_count": 28,
      "outputs": [
        {
          "output_type": "stream",
          "text": [
            "[[1. 1. 1. 1.]\n",
            " [1. 1. 1. 1.]\n",
            " [1. 1. 1. 1.]\n",
            " [1. 1. 1. 1.]\n",
            " [1. 1. 1. 1.]\n",
            " [1. 1. 1. 1.]]\n",
            "[[ 1.  25.  50.   6. ]\n",
            " [ 1.  30.  55.   5.9]\n",
            " [ 1.  24.  60.   5.9]\n",
            " [ 1.  27.  80.   5.5]\n",
            " [ 1.  34.  90.   5.7]\n",
            " [ 1.  30.  56.   6. ]]\n",
            "[[60.]\n",
            " [62.]\n",
            " [59.]\n",
            " [80.]\n",
            " [85.]\n",
            " [60.]]\n"
          ],
          "name": "stdout"
        }
      ]
    },
    {
      "cell_type": "code",
      "metadata": {
        "id": "uOcvRQKF9EaN",
        "colab_type": "code",
        "colab": {}
      },
      "source": [
        "#create the polynomial generic function which accepts the input matrix and convert into it's nth degree polynomial\n",
        "def polynomy(x,n):\n",
        "  M=np.zeros((x.shape[0],x.shape[1]*n))\n",
        "\n",
        "  c=0\n",
        "\n",
        "  for i in range(x.shape[1]):\n",
        "    col=x[:,i]\n",
        "    cm=[]\n",
        "    for j in range(n):\n",
        "      cm.append(col**(j+1))\n",
        "    cm=np.array(cm).T\n",
        "    M[:,c:c+n]=cm\n",
        "    c+=n\n",
        "  X=np.ones((M.shape[0],M.shape[1]+1))\n",
        "  X[:,1:] = M\n",
        "  return X"
      ],
      "execution_count": 0,
      "outputs": []
    },
    {
      "cell_type": "code",
      "metadata": {
        "id": "-hKwB35MG5Iy",
        "colab_type": "code",
        "colab": {
          "base_uri": "https://localhost:8080/",
          "height": 120
        },
        "outputId": "a847288b-39df-4ce6-9913-754949bc34fd"
      },
      "source": [
        "polynomy(x,1)"
      ],
      "execution_count": 34,
      "outputs": [
        {
          "output_type": "execute_result",
          "data": {
            "text/plain": [
              "array([[ 1. , 25. , 50. ,  6. ],\n",
              "       [ 1. , 30. , 55. ,  5.9],\n",
              "       [ 1. , 24. , 60. ,  5.9],\n",
              "       [ 1. , 27. , 80. ,  5.5],\n",
              "       [ 1. , 34. , 90. ,  5.7],\n",
              "       [ 1. , 30. , 56. ,  6. ]])"
            ]
          },
          "metadata": {
            "tags": []
          },
          "execution_count": 34
        }
      ]
    },
    {
      "cell_type": "code",
      "metadata": {
        "id": "KtHMNMQWHQ4u",
        "colab_type": "code",
        "colab": {
          "base_uri": "https://localhost:8080/",
          "height": 224
        },
        "outputId": "aef8dce0-9e83-43b5-8e71-3040d691ac1a"
      },
      "source": [
        "polynomy(x,2)"
      ],
      "execution_count": 35,
      "outputs": [
        {
          "output_type": "execute_result",
          "data": {
            "text/plain": [
              "array([[1.000e+00, 2.500e+01, 6.250e+02, 5.000e+01, 2.500e+03, 6.000e+00,\n",
              "        3.600e+01],\n",
              "       [1.000e+00, 3.000e+01, 9.000e+02, 5.500e+01, 3.025e+03, 5.900e+00,\n",
              "        3.481e+01],\n",
              "       [1.000e+00, 2.400e+01, 5.760e+02, 6.000e+01, 3.600e+03, 5.900e+00,\n",
              "        3.481e+01],\n",
              "       [1.000e+00, 2.700e+01, 7.290e+02, 8.000e+01, 6.400e+03, 5.500e+00,\n",
              "        3.025e+01],\n",
              "       [1.000e+00, 3.400e+01, 1.156e+03, 9.000e+01, 8.100e+03, 5.700e+00,\n",
              "        3.249e+01],\n",
              "       [1.000e+00, 3.000e+01, 9.000e+02, 5.600e+01, 3.136e+03, 6.000e+00,\n",
              "        3.600e+01]])"
            ]
          },
          "metadata": {
            "tags": []
          },
          "execution_count": 35
        }
      ]
    },
    {
      "cell_type": "code",
      "metadata": {
        "id": "NXglx8vmHZEF",
        "colab_type": "code",
        "colab": {
          "base_uri": "https://localhost:8080/",
          "height": 224
        },
        "outputId": "2f5947e9-6f6f-48c8-d703-3fb6c4b8b12d"
      },
      "source": [
        "polynomy(x,3)"
      ],
      "execution_count": 36,
      "outputs": [
        {
          "output_type": "execute_result",
          "data": {
            "text/plain": [
              "array([[1.00000e+00, 2.50000e+01, 6.25000e+02, 1.56250e+04, 5.00000e+01,\n",
              "        2.50000e+03, 1.25000e+05, 6.00000e+00, 3.60000e+01, 2.16000e+02],\n",
              "       [1.00000e+00, 3.00000e+01, 9.00000e+02, 2.70000e+04, 5.50000e+01,\n",
              "        3.02500e+03, 1.66375e+05, 5.90000e+00, 3.48100e+01, 2.05379e+02],\n",
              "       [1.00000e+00, 2.40000e+01, 5.76000e+02, 1.38240e+04, 6.00000e+01,\n",
              "        3.60000e+03, 2.16000e+05, 5.90000e+00, 3.48100e+01, 2.05379e+02],\n",
              "       [1.00000e+00, 2.70000e+01, 7.29000e+02, 1.96830e+04, 8.00000e+01,\n",
              "        6.40000e+03, 5.12000e+05, 5.50000e+00, 3.02500e+01, 1.66375e+02],\n",
              "       [1.00000e+00, 3.40000e+01, 1.15600e+03, 3.93040e+04, 9.00000e+01,\n",
              "        8.10000e+03, 7.29000e+05, 5.70000e+00, 3.24900e+01, 1.85193e+02],\n",
              "       [1.00000e+00, 3.00000e+01, 9.00000e+02, 2.70000e+04, 5.60000e+01,\n",
              "        3.13600e+03, 1.75616e+05, 6.00000e+00, 3.60000e+01, 2.16000e+02]])"
            ]
          },
          "metadata": {
            "tags": []
          },
          "execution_count": 36
        }
      ]
    },
    {
      "cell_type": "code",
      "metadata": {
        "id": "mUCLVEJWIOdQ",
        "colab_type": "code",
        "colab": {}
      },
      "source": [
        "#deveope a function for extract the coefficients\n",
        "from numpy.linalg import inv\n",
        "def coeffs(x,y):\n",
        "  #formulae inverse(xT.x).(xT.y)\n",
        "  left=inv(x.T.dot(x))\n",
        "  right=(x.T.dot(y))\n",
        "  beta=left.dot(right)\n",
        "  return beta"
      ],
      "execution_count": 0,
      "outputs": []
    },
    {
      "cell_type": "code",
      "metadata": {
        "id": "E8cQhFknJEP1",
        "colab_type": "code",
        "colab": {}
      },
      "source": [
        "#develope a function for prediction\n",
        "def predict(x,beta):\n",
        "  ycap=x.dot(beta)\n",
        "  return ycap"
      ],
      "execution_count": 0,
      "outputs": []
    },
    {
      "cell_type": "code",
      "metadata": {
        "id": "z7jyBIBQJh-L",
        "colab_type": "code",
        "colab": {}
      },
      "source": [
        "#develop a function to test the accuracy\n",
        "def accuracy(y,ycap,closeness):\n",
        "  de=100-closeness\n",
        "  d=abs(y-ycap)/y*100\n",
        "  pcnt=d[d<=de].size\n",
        "  n=y.size\n",
        "  acc=pcnt/n*100\n",
        "  return acc"
      ],
      "execution_count": 0,
      "outputs": []
    },
    {
      "cell_type": "code",
      "metadata": {
        "id": "fF47KomXKt5T",
        "colab_type": "code",
        "colab": {}
      },
      "source": [
        "#prepare the input matrix for Linear model, Quadratic model and Cubic model\n",
        "LX=polynomy(x,1)\n",
        "QX=polynomy(x,2)\n",
        "CX=polynomy(x,3)"
      ],
      "execution_count": 0,
      "outputs": []
    },
    {
      "cell_type": "code",
      "metadata": {
        "id": "Xlsm2yRsLBmA",
        "colab_type": "code",
        "colab": {
          "base_uri": "https://localhost:8080/",
          "height": 120
        },
        "outputId": "c1e6733a-29fa-4450-fcab-31d8c22d7747"
      },
      "source": [
        "print(LX)"
      ],
      "execution_count": 41,
      "outputs": [
        {
          "output_type": "stream",
          "text": [
            "[[ 1.  25.  50.   6. ]\n",
            " [ 1.  30.  55.   5.9]\n",
            " [ 1.  24.  60.   5.9]\n",
            " [ 1.  27.  80.   5.5]\n",
            " [ 1.  34.  90.   5.7]\n",
            " [ 1.  30.  56.   6. ]]\n"
          ],
          "name": "stdout"
        }
      ]
    },
    {
      "cell_type": "code",
      "metadata": {
        "id": "UMJKbg4YLFKK",
        "colab_type": "code",
        "colab": {
          "base_uri": "https://localhost:8080/",
          "height": 120
        },
        "outputId": "45d4e8cb-56fa-44a3-8e2e-5bd59eb52b4d"
      },
      "source": [
        "print(QX)"
      ],
      "execution_count": 44,
      "outputs": [
        {
          "output_type": "stream",
          "text": [
            "[[1.000e+00 2.500e+01 6.250e+02 5.000e+01 2.500e+03 6.000e+00 3.600e+01]\n",
            " [1.000e+00 3.000e+01 9.000e+02 5.500e+01 3.025e+03 5.900e+00 3.481e+01]\n",
            " [1.000e+00 2.400e+01 5.760e+02 6.000e+01 3.600e+03 5.900e+00 3.481e+01]\n",
            " [1.000e+00 2.700e+01 7.290e+02 8.000e+01 6.400e+03 5.500e+00 3.025e+01]\n",
            " [1.000e+00 3.400e+01 1.156e+03 9.000e+01 8.100e+03 5.700e+00 3.249e+01]\n",
            " [1.000e+00 3.000e+01 9.000e+02 5.600e+01 3.136e+03 6.000e+00 3.600e+01]]\n"
          ],
          "name": "stdout"
        }
      ]
    },
    {
      "cell_type": "code",
      "metadata": {
        "id": "GIjA-AJ3LNw7",
        "colab_type": "code",
        "colab": {
          "base_uri": "https://localhost:8080/",
          "height": 224
        },
        "outputId": "6c7a4134-f1b6-439f-95f5-546ca45c0c9f"
      },
      "source": [
        "print(CX)"
      ],
      "execution_count": 45,
      "outputs": [
        {
          "output_type": "stream",
          "text": [
            "[[1.00000e+00 2.50000e+01 6.25000e+02 1.56250e+04 5.00000e+01 2.50000e+03\n",
            "  1.25000e+05 6.00000e+00 3.60000e+01 2.16000e+02]\n",
            " [1.00000e+00 3.00000e+01 9.00000e+02 2.70000e+04 5.50000e+01 3.02500e+03\n",
            "  1.66375e+05 5.90000e+00 3.48100e+01 2.05379e+02]\n",
            " [1.00000e+00 2.40000e+01 5.76000e+02 1.38240e+04 6.00000e+01 3.60000e+03\n",
            "  2.16000e+05 5.90000e+00 3.48100e+01 2.05379e+02]\n",
            " [1.00000e+00 2.70000e+01 7.29000e+02 1.96830e+04 8.00000e+01 6.40000e+03\n",
            "  5.12000e+05 5.50000e+00 3.02500e+01 1.66375e+02]\n",
            " [1.00000e+00 3.40000e+01 1.15600e+03 3.93040e+04 9.00000e+01 8.10000e+03\n",
            "  7.29000e+05 5.70000e+00 3.24900e+01 1.85193e+02]\n",
            " [1.00000e+00 3.00000e+01 9.00000e+02 2.70000e+04 5.60000e+01 3.13600e+03\n",
            "  1.75616e+05 6.00000e+00 3.60000e+01 2.16000e+02]]\n"
          ],
          "name": "stdout"
        }
      ]
    },
    {
      "cell_type": "code",
      "metadata": {
        "id": "nqi72Vo5LRCR",
        "colab_type": "code",
        "colab": {
          "base_uri": "https://localhost:8080/",
          "height": 68
        },
        "outputId": "57e8916b-4a11-4745-f3db-f971fba5f7ae"
      },
      "source": [
        "print(LX.shape)\n",
        "print(QX.shape)\n",
        "print(CX.shape)"
      ],
      "execution_count": 47,
      "outputs": [
        {
          "output_type": "stream",
          "text": [
            "(6, 4)\n",
            "(6, 7)\n",
            "(6, 10)\n"
          ],
          "name": "stdout"
        }
      ]
    },
    {
      "cell_type": "code",
      "metadata": {
        "id": "tT3-mesaLdsM",
        "colab_type": "code",
        "colab": {}
      },
      "source": [
        "#next step is to do the predictions\n",
        "Lbeta = coeffs(LX,y)\n",
        "Qbeta = coeffs(QX,y)\n",
        "Cbeta = coeffs(CX,y)"
      ],
      "execution_count": 0,
      "outputs": []
    },
    {
      "cell_type": "code",
      "metadata": {
        "id": "UbJ4tsfmMFT6",
        "colab_type": "code",
        "colab": {
          "base_uri": "https://localhost:8080/",
          "height": 120
        },
        "outputId": "ee2268ea-c4e2-4355-f59e-e0fdef1e47a3"
      },
      "source": [
        "print(Lbeta)\n",
        "print(Qbeta)\n",
        "print(Cbeta)"
      ],
      "execution_count": 66,
      "outputs": [
        {
          "output_type": "stream",
          "text": [
            "[133.78588633   0.53229209   0.44109935 -18.847852  ]\n",
            "[-2.24000000e+02  3.05000000e+01 -4.70703125e-01 -2.65234375e+00\n",
            "  2.31933594e-02 -2.00000000e+01 -5.00000000e-01]\n",
            "[-6.91200000e+03  2.62500000e+02 -8.21875000e+00  6.73828125e-02\n",
            "  2.36250000e+02 -3.68359375e+00  1.86920166e-02 -4.00000000e+01\n",
            "  1.00000000e+00  2.50000000e-01]\n"
          ],
          "name": "stdout"
        }
      ]
    },
    {
      "cell_type": "code",
      "metadata": {
        "id": "fHJgXYLiMjRE",
        "colab_type": "code",
        "colab": {
          "base_uri": "https://localhost:8080/",
          "height": 86
        },
        "outputId": "6b977ee8-3928-409b-8049-038ba6ddf22e"
      },
      "source": [
        "#as of now we have X(LX/QX/CX), y and coefficents are ready\n",
        "#now call the prediction function\n",
        "Lpred = predict(LX,Lbeta)\n",
        "Qpred = predict(QX,Qbeta)\n",
        "Cpred = predict(CX,Cbeta)\n",
        "\n",
        "print(Lpred)\n",
        "print(Qpred)\n",
        "print(Cpred)"
      ],
      "execution_count": 67,
      "outputs": [
        {
          "output_type": "stream",
          "text": [
            "[56.06104421 62.81278662 61.82453082 79.78253491 84.15000267 61.36910077]\n",
            "[31.67675781 56.24319336 25.82546875 67.48242188 87.77746094 53.5703125 ]\n",
            "[356.65539551 196.37885583 387.19283594 257.48339844  63.19804004\n",
            " 196.328125  ]\n"
          ],
          "name": "stdout"
        }
      ]
    },
    {
      "cell_type": "code",
      "metadata": {
        "id": "MOI4nHgDOM_Y",
        "colab_type": "code",
        "colab": {
          "base_uri": "https://localhost:8080/",
          "height": 68
        },
        "outputId": "25110451-0f8a-4ef6-ce99-b66ca1f9eeb5"
      },
      "source": [
        "#now we have to call accuracy function to find the accuracy\n",
        "Lacc = accuracy(y,Lpred,90)\n",
        "Qacc = accuracy(y,Qpred,90)\n",
        "Cacc = accuracy(y,Cpred,90)\n",
        "\n",
        "print(\"Accuracy by Linear Model:\",Lacc)\n",
        "print(\"Accuracy by Quadratic Model:\",Qacc)\n",
        "print(\"Accuracy by Cubic Model:\",Cacc)"
      ],
      "execution_count": 68,
      "outputs": [
        {
          "output_type": "stream",
          "text": [
            "Accuracy by Linear Model: 100.0\n",
            "Accuracy by Quadratic Model: 33.33333333333333\n",
            "Accuracy by Cubic Model: 0.0\n"
          ],
          "name": "stdout"
        }
      ]
    }
  ]
}