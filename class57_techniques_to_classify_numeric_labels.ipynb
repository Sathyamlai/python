{
  "nbformat": 4,
  "nbformat_minor": 0,
  "metadata": {
    "colab": {
      "name": "class57_techniques to classify numeric labels.ipynb",
      "provenance": [],
      "authorship_tag": "ABX9TyNPY3cC1bXyBqUm95QlkGgY",
      "include_colab_link": true
    },
    "kernelspec": {
      "name": "python3",
      "display_name": "Python 3"
    }
  },
  "cells": [
    {
      "cell_type": "markdown",
      "metadata": {
        "id": "view-in-github",
        "colab_type": "text"
      },
      "source": [
        "<a href=\"https://colab.research.google.com/github/Sathyamlai/python/blob/master/class57_techniques_to_classify_numeric_labels.ipynb\" target=\"_parent\"><img src=\"https://colab.research.google.com/assets/colab-badge.svg\" alt=\"Open In Colab\"/></a>"
      ]
    },
    {
      "cell_type": "code",
      "metadata": {
        "id": "yn72wAOPSI4F",
        "colab_type": "code",
        "colab": {}
      },
      "source": [
        "import numpy as np\n",
        "import pandas as pd"
      ],
      "execution_count": 60,
      "outputs": []
    },
    {
      "cell_type": "code",
      "metadata": {
        "id": "x-6yreODSsxe",
        "colab_type": "code",
        "colab": {}
      },
      "source": [
        "# calculate standard deviation\n",
        "def sd(x):\n",
        "  res = (((x-x.mean())**2).sum()/(x.size-1))**0.5\n",
        "  return res"
      ],
      "execution_count": 61,
      "outputs": []
    },
    {
      "cell_type": "code",
      "metadata": {
        "id": "gvRNZEJnXa1F",
        "colab_type": "code",
        "colab": {}
      },
      "source": [
        "def transform(x):\n",
        "  x=np.array(x)\n",
        "\n",
        "  m=x.mean()\n",
        "  s=sd(x)\n",
        "\n",
        "  l1 = m-s\n",
        "  l2 = m-2*s\n",
        "  l3 = m-3*s\n",
        "\n",
        "  g1 = m+s\n",
        "  g2 = m+2*s\n",
        "  g3 = m+3*s\n",
        "\n",
        "  A=[]\n",
        "\n",
        "  for a in x:\n",
        "    if(a>=m and a<g1):\n",
        "      #A[len(A) + 1]=0\n",
        "      A.append(0)\n",
        "    elif (a>=g1 and a<g2):\n",
        "      #A[len(A) + 1]=1\n",
        "      A.append(1)\n",
        "    elif (a>=g2 and a<g3):\n",
        "      #A[len(A) + 1]=2\n",
        "      A.append(2)      \n",
        "    elif (a>=g3):\n",
        "      #A[len(A) + 1]=3\n",
        "      A.append(3)\n",
        "    elif (a<=m and a>l1):\n",
        "      #A[len(A) + 1]=4\n",
        "      A.append(4)\n",
        "    elif (a<=l1 and a>l2):\n",
        "      #A[len(A) + 1]=5\n",
        "      A.append(5)\n",
        "    elif (a<=l2 and a>l3):\n",
        "      #A[len(A) + 1]=6\n",
        "      A.append(6) \n",
        "    elif (a<=l3):\n",
        "      #A[len(A) + 1]=7\n",
        "      A.append(7)\n",
        "    \n",
        "  return A"
      ],
      "execution_count": 62,
      "outputs": []
    },
    {
      "cell_type": "code",
      "metadata": {
        "id": "y658QK_HS0UC",
        "colab_type": "code",
        "colab": {
          "base_uri": "https://localhost:8080/",
          "height": 1000
        },
        "outputId": "671b1b5f-05af-4982-d0c3-2046ddbaccb1"
      },
      "source": [
        "#x=[10,90,50,23,45,78,98,12,5,80,67,65,34]\n",
        "x=np.arange(0,99)+1\n",
        "print(x)\n",
        "transform(x)"
      ],
      "execution_count": 65,
      "outputs": [
        {
          "output_type": "stream",
          "text": [
            "[ 1  2  3  4  5  6  7  8  9 10 11 12 13 14 15 16 17 18 19 20 21 22 23 24\n",
            " 25 26 27 28 29 30 31 32 33 34 35 36 37 38 39 40 41 42 43 44 45 46 47 48\n",
            " 49 50 51 52 53 54 55 56 57 58 59 60 61 62 63 64 65 66 67 68 69 70 71 72\n",
            " 73 74 75 76 77 78 79 80 81 82 83 84 85 86 87 88 89 90 91 92 93 94 95 96\n",
            " 97 98 99]\n"
          ],
          "name": "stdout"
        },
        {
          "output_type": "execute_result",
          "data": {
            "text/plain": [
              "[5,\n",
              " 5,\n",
              " 5,\n",
              " 5,\n",
              " 5,\n",
              " 5,\n",
              " 5,\n",
              " 5,\n",
              " 5,\n",
              " 5,\n",
              " 5,\n",
              " 5,\n",
              " 5,\n",
              " 5,\n",
              " 5,\n",
              " 5,\n",
              " 5,\n",
              " 5,\n",
              " 5,\n",
              " 5,\n",
              " 5,\n",
              " 4,\n",
              " 4,\n",
              " 4,\n",
              " 4,\n",
              " 4,\n",
              " 4,\n",
              " 4,\n",
              " 4,\n",
              " 4,\n",
              " 4,\n",
              " 4,\n",
              " 4,\n",
              " 4,\n",
              " 4,\n",
              " 4,\n",
              " 4,\n",
              " 4,\n",
              " 4,\n",
              " 4,\n",
              " 4,\n",
              " 4,\n",
              " 4,\n",
              " 4,\n",
              " 4,\n",
              " 4,\n",
              " 4,\n",
              " 4,\n",
              " 4,\n",
              " 0,\n",
              " 0,\n",
              " 0,\n",
              " 0,\n",
              " 0,\n",
              " 0,\n",
              " 0,\n",
              " 0,\n",
              " 0,\n",
              " 0,\n",
              " 0,\n",
              " 0,\n",
              " 0,\n",
              " 0,\n",
              " 0,\n",
              " 0,\n",
              " 0,\n",
              " 0,\n",
              " 0,\n",
              " 0,\n",
              " 0,\n",
              " 0,\n",
              " 0,\n",
              " 0,\n",
              " 0,\n",
              " 0,\n",
              " 0,\n",
              " 0,\n",
              " 0,\n",
              " 1,\n",
              " 1,\n",
              " 1,\n",
              " 1,\n",
              " 1,\n",
              " 1,\n",
              " 1,\n",
              " 1,\n",
              " 1,\n",
              " 1,\n",
              " 1,\n",
              " 1,\n",
              " 1,\n",
              " 1,\n",
              " 1,\n",
              " 1,\n",
              " 1,\n",
              " 1,\n",
              " 1,\n",
              " 1,\n",
              " 1]"
            ]
          },
          "metadata": {
            "tags": []
          },
          "execution_count": 65
        }
      ]
    },
    {
      "cell_type": "code",
      "metadata": {
        "id": "CWZqUsKUd1Tv",
        "colab_type": "code",
        "colab": {}
      },
      "source": [
        "def transform2(x):\n",
        "  x=np.array(x)\n",
        "\n",
        "  m=x.mean()\n",
        "  s=sd(x)\n",
        "\n",
        "  l1 = m-s\n",
        "  l2 = m-2*s\n",
        "  l3 = m-3*s\n",
        "\n",
        "  g1 = m+s\n",
        "  g2 = m+2*s\n",
        "  g3 = m+3*s\n",
        "\n",
        "  A=[]\n",
        "  #A=np.array(A)\n",
        "  \n",
        "  #print(\"g1:\",g1)\n",
        "  #print(\"m:\",m)\n",
        "  #print(\"x:\",x)\n",
        "  #print(\"A:\",A)\n",
        "\n",
        "  for a in x:\n",
        "    if(a>=m and a<g1):\n",
        "      #A[len(A) + 1]=0\n",
        "      A.append(0)\n",
        "    elif (a>=g1 and a<g2):\n",
        "      #A[len(A) + 1]=1\n",
        "      A.append(1)\n",
        "    elif (a>=g3):\n",
        "      #A[len(A) + 1]=2\n",
        "      A.append(2)\n",
        "    elif (a<=m and a>=l1):\n",
        "      #A[len(A) + 1]=3\n",
        "      A.append(3)\n",
        "    elif (a<l1 and a>=l2):\n",
        "      #A[len(A) + 1]=4\n",
        "      A.append(4)\n",
        "    elif (a<=l2 and a>=l3):\n",
        "      #A[len(A) + 1]=5\n",
        "      A.append(5) \n",
        "    else:\n",
        "      #A[len(A) + 1]=6\n",
        "      A.append(6)\n",
        "    \n",
        "  return A"
      ],
      "execution_count": 66,
      "outputs": []
    },
    {
      "cell_type": "code",
      "metadata": {
        "id": "yM3MmaKMd6M0",
        "colab_type": "code",
        "colab": {
          "base_uri": "https://localhost:8080/",
          "height": 34
        },
        "outputId": "b14ea980-2fd9-4f77-cab9-909b59e8448e"
      },
      "source": [
        "x=[10,90,50,23,45,78,98,12,5,80,67,65,34]\n",
        "\n",
        "#x=np.arange(0,99)+1\n",
        "\n",
        "transform2(x)"
      ],
      "execution_count": 69,
      "outputs": [
        {
          "output_type": "execute_result",
          "data": {
            "text/plain": [
              "[4, 1, 3, 3, 3, 0, 1, 4, 4, 0, 0, 0, 3]"
            ]
          },
          "metadata": {
            "tags": []
          },
          "execution_count": 69
        }
      ]
    }
  ]
}