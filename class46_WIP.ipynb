{
  "nbformat": 4,
  "nbformat_minor": 0,
  "metadata": {
    "colab": {
      "name": "class46_WIP.ipynb",
      "provenance": [],
      "authorship_tag": "ABX9TyMl2dhwfizLtLK360eCnxsc",
      "include_colab_link": true
    },
    "kernelspec": {
      "name": "python3",
      "display_name": "Python 3"
    }
  },
  "cells": [
    {
      "cell_type": "markdown",
      "metadata": {
        "id": "view-in-github",
        "colab_type": "text"
      },
      "source": [
        "<a href=\"https://colab.research.google.com/github/Sathyamlai/python/blob/master/class46_WIP.ipynb\" target=\"_parent\"><img src=\"https://colab.research.google.com/assets/colab-badge.svg\" alt=\"Open In Colab\"/></a>"
      ]
    },
    {
      "cell_type": "code",
      "metadata": {
        "id": "MuyVY5qvKWL-",
        "colab_type": "code",
        "outputId": "4c983c94-fc08-4d0e-8bcb-46539cc0f24a",
        "colab": {
          "base_uri": "https://localhost:8080/",
          "height": 54
        }
      },
      "source": [
        "import numpy as np\n",
        "import pandas as pd\n",
        "'''\n",
        "\"name\",\"age\",\"wgt\",\"hgt\",\"diabetic\"\n",
        "aaa,25,60,5.9,yes\n",
        "bbb,26,67,6.0,no\n",
        "ccc,45,78,5.5,yes\n",
        "ddd,56,80,5.9,no\n",
        "eee,55,81,6.0,no\n",
        "fff,56,79,5.11,no\n",
        "ggg,55,79,5.4,yes\n",
        "hhh,56,89,5.9,yes\n",
        "iii,49,70,5.6,no\n",
        "jjj,49,75,5.6,yes\n",
        "kkk,52,80,5.7,yes\n",
        "'''"
      ],
      "execution_count": 85,
      "outputs": [
        {
          "output_type": "execute_result",
          "data": {
            "text/plain": [
              "'\\n\"name\",\"age\",\"wgt\",\"hgt\",\"diabetic\"\\naaa,25,60,5.9,yes\\nbbb,26,67,6.0,no\\nccc,45,78,5.5,yes\\nddd,56,80,5.9,no\\neee,55,81,6.0,no\\nfff,56,79,5.11,no\\nggg,55,79,5.4,yes\\nhhh,56,89,5.9,yes\\niii,49,70,5.6,no\\njjj,49,75,5.6,yes\\nkkk,52,80,5.7,yes\\n'"
            ]
          },
          "metadata": {
            "tags": []
          },
          "execution_count": 85
        }
      ]
    },
    {
      "cell_type": "code",
      "metadata": {
        "id": "LTGeHEkSKaWE",
        "colab_type": "code",
        "outputId": "8732f8d9-6758-4ad9-eb69-2bf180d0787f",
        "colab": {
          "resources": {
            "http://localhost:8080/nbextensions/google.colab/files.js": {
              "data": "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",
              "ok": true,
              "headers": [
                [
                  "content-type",
                  "application/javascript"
                ]
              ],
              "status": 200,
              "status_text": ""
            }
          },
          "base_uri": "https://localhost:8080/",
          "height": 75
        }
      },
      "source": [
        "from google.colab import files\n",
        "uploaded = files.upload()"
      ],
      "execution_count": 86,
      "outputs": [
        {
          "output_type": "display_data",
          "data": {
            "text/html": [
              "\n",
              "     <input type=\"file\" id=\"files-950e6abc-8a35-4dd3-87e8-f94c2aaa6b03\" name=\"files[]\" multiple disabled />\n",
              "     <output id=\"result-950e6abc-8a35-4dd3-87e8-f94c2aaa6b03\">\n",
              "      Upload widget is only available when the cell has been executed in the\n",
              "      current browser session. Please rerun this cell to enable.\n",
              "      </output>\n",
              "      <script src=\"/nbextensions/google.colab/files.js\"></script> "
            ],
            "text/plain": [
              "<IPython.core.display.HTML object>"
            ]
          },
          "metadata": {
            "tags": []
          }
        },
        {
          "output_type": "stream",
          "text": [
            "Saving class46_patients_upd.txt to class46_patients_upd (3).txt\n"
          ],
          "name": "stdout"
        }
      ]
    },
    {
      "cell_type": "code",
      "metadata": {
        "id": "aMDwxz47Khhu",
        "colab_type": "code",
        "outputId": "d4a023d8-321a-4b53-f374-298354492a11",
        "colab": {
          "base_uri": "https://localhost:8080/",
          "height": 88
        }
      },
      "source": [
        "f=open('class46_patients_upd.txt')\n",
        "h=f.readline()\n",
        "lines=f.readlines()\n",
        "print (h)\n",
        "print (lines)"
      ],
      "execution_count": 87,
      "outputs": [
        {
          "output_type": "stream",
          "text": [
            "\"name\",\"age\",\"wgt\",\"hgt\",\"diabetic\"\n",
            "\n",
            "['aaa,25,60,5.9,yes\\n', 'bbb,26,67,6.0,no\\n', 'ccc,45,78,5.5,yes\\n', 'ddd,56,80,5.9,no\\n', 'eee,55,81,6.0,no\\n', 'fff,56,79,5.11,no\\n', 'ggg,55,79,5.4,yes\\n', 'hhh,56,89,5.9,yes\\n', 'iii,49,70,5.6,no\\n', 'jjj,49,75,5.6,yes\\n', 'kkk,52,80,5.7,yes']\n"
          ],
          "name": "stdout"
        }
      ]
    },
    {
      "cell_type": "code",
      "metadata": {
        "id": "nQQuASCVKjmv",
        "colab_type": "code",
        "outputId": "2dd49c49-b2e7-4274-a817-639c7f4131e8",
        "colab": {
          "base_uri": "https://localhost:8080/",
          "height": 86
        }
      },
      "source": [
        "age=[]\n",
        "wgt=[]\n",
        "hgt=[]\n",
        "dstat=[]\n",
        "for line in lines:\n",
        "  w=line.strip().split(\",\")\n",
        "  age.append(float(w[1]))\n",
        "  wgt.append(float(w[2]))\n",
        "  hgt.append(float(w[3]))\n",
        "  d=0\n",
        "  if w[-1] == 'yes':\n",
        "       d=1\n",
        "  dstat.append(d)\n",
        "\n",
        "print(age)\n",
        "print(wgt)\n",
        "print(hgt)\n",
        "print(dstat)"
      ],
      "execution_count": 88,
      "outputs": [
        {
          "output_type": "stream",
          "text": [
            "[25.0, 26.0, 45.0, 56.0, 55.0, 56.0, 55.0, 56.0, 49.0, 49.0, 52.0]\n",
            "[60.0, 67.0, 78.0, 80.0, 81.0, 79.0, 79.0, 89.0, 70.0, 75.0, 80.0]\n",
            "[5.9, 6.0, 5.5, 5.9, 6.0, 5.11, 5.4, 5.9, 5.6, 5.6, 5.7]\n",
            "[1, 0, 1, 0, 0, 0, 1, 1, 0, 1, 1]\n"
          ],
          "name": "stdout"
        }
      ]
    },
    {
      "cell_type": "code",
      "metadata": {
        "id": "mcpKoNWXLIzm",
        "colab_type": "code",
        "outputId": "4cd7aa38-8d2f-4030-cc31-a8a08287038e",
        "colab": {
          "base_uri": "https://localhost:8080/",
          "height": 34
        }
      },
      "source": [
        "age=np.array(age)\n",
        "wgt=np.array(wgt)\n",
        "hgt=np.array(hgt)\n",
        "dstat=np.array(dstat)\n",
        "\n",
        "ones=np.ones(len(lines))\n",
        "print(ones)"
      ],
      "execution_count": 89,
      "outputs": [
        {
          "output_type": "stream",
          "text": [
            "[1. 1. 1. 1. 1. 1. 1. 1. 1. 1. 1.]\n"
          ],
          "name": "stdout"
        }
      ]
    },
    {
      "cell_type": "code",
      "metadata": {
        "id": "1kq-skMxLpaN",
        "colab_type": "code",
        "outputId": "b6302bd4-c85c-4682-ad55-f1d4b60d00b9",
        "colab": {
          "base_uri": "https://localhost:8080/",
          "height": 207
        }
      },
      "source": [
        "X=np.c_[ones,age,wgt,hgt]\n",
        "print(X)"
      ],
      "execution_count": 90,
      "outputs": [
        {
          "output_type": "stream",
          "text": [
            "[[ 1.   25.   60.    5.9 ]\n",
            " [ 1.   26.   67.    6.  ]\n",
            " [ 1.   45.   78.    5.5 ]\n",
            " [ 1.   56.   80.    5.9 ]\n",
            " [ 1.   55.   81.    6.  ]\n",
            " [ 1.   56.   79.    5.11]\n",
            " [ 1.   55.   79.    5.4 ]\n",
            " [ 1.   56.   89.    5.9 ]\n",
            " [ 1.   49.   70.    5.6 ]\n",
            " [ 1.   49.   75.    5.6 ]\n",
            " [ 1.   52.   80.    5.7 ]]\n"
          ],
          "name": "stdout"
        }
      ]
    },
    {
      "cell_type": "code",
      "metadata": {
        "id": "d4dRsxFtLtH7",
        "colab_type": "code",
        "outputId": "5b473896-523c-429b-e7f2-4ccf58f43b10",
        "colab": {
          "base_uri": "https://localhost:8080/",
          "height": 207
        }
      },
      "source": [
        "Y=np.c_[dstat]\n",
        "print(Y)"
      ],
      "execution_count": 91,
      "outputs": [
        {
          "output_type": "stream",
          "text": [
            "[[1]\n",
            " [0]\n",
            " [1]\n",
            " [0]\n",
            " [0]\n",
            " [0]\n",
            " [1]\n",
            " [1]\n",
            " [0]\n",
            " [1]\n",
            " [1]]\n"
          ],
          "name": "stdout"
        }
      ]
    },
    {
      "cell_type": "code",
      "metadata": {
        "id": "gwMxtnSOLwJq",
        "colab_type": "code",
        "colab": {}
      },
      "source": [
        "# sofar you preprared input matrix and Label matrix\n",
        "# the next step is, get the matured coefficients i.e. beta\n",
        "# Once you scale the data, and apply the gradient then you will get the matured co-efficients\n",
        "\n",
        "# So now below functions for scaling the data\n",
        "\n",
        "#function for standard deviation\n",
        "'''\n",
        "  #nr = (x#-x.mean())\n",
        "  #nr2 = (nr**2).sum()\n",
        "  #de = (x.size#-1)\n",
        "  #res = (nr2/de)**0.5\n",
        "'''\n",
        "def sd(x):\n",
        "  res = (((x-x.mean())**2).sum()/(x.size-1))**0.5\n",
        "  return res\n",
        "\n",
        "def scale(x):\n",
        "  num = x-x.mean()\n",
        "  den = sd(x)\n",
        "  res = num / den\n",
        "  return res\n",
        "\n",
        "def scaleMatrix(x):\n",
        "  ncol = x.shape[1]\n",
        "  for i in range(ncol):\n",
        "    if i == 0:\n",
        "      continue\n",
        "    c = x[:,i]\n",
        "    x[:,i] = scale(c)\n",
        "  return x"
      ],
      "execution_count": 0,
      "outputs": []
    },
    {
      "cell_type": "code",
      "metadata": {
        "id": "1PGTO6qfNP_Z",
        "colab_type": "code",
        "outputId": "c1977f1d-e98f-4f86-ea8e-778f6c8a8f88",
        "colab": {
          "base_uri": "https://localhost:8080/",
          "height": 86
        }
      },
      "source": [
        "print(age)\n",
        "print(wgt)\n",
        "print(hgt)\n",
        "print(dstat)"
      ],
      "execution_count": 93,
      "outputs": [
        {
          "output_type": "stream",
          "text": [
            "[25. 26. 45. 56. 55. 56. 55. 56. 49. 49. 52.]\n",
            "[60. 67. 78. 80. 81. 79. 79. 89. 70. 75. 80.]\n",
            "[5.9  6.   5.5  5.9  6.   5.11 5.4  5.9  5.6  5.6  5.7 ]\n",
            "[1 0 1 0 0 0 1 1 0 1 1]\n"
          ],
          "name": "stdout"
        }
      ]
    },
    {
      "cell_type": "code",
      "metadata": {
        "id": "0AFEmgLFNvwm",
        "colab_type": "code",
        "outputId": "e0bfc1cc-dc29-46fe-803e-9ddb5c2b4ebd",
        "colab": {
          "base_uri": "https://localhost:8080/",
          "height": 172
        }
      },
      "source": [
        "#calculating the mean of age, sd of age and other parameters\n",
        "ma = sum(age)/len(age)\n",
        "#sa = sd(age)\n",
        "\n",
        "mw = sum(wgt)/len(wgt)\n",
        "#sw = sd(wgt)\n",
        "\n",
        "mh = sum(hgt)/len(hgt)\n",
        "#sh = sd(hgt)\n",
        "\n",
        "md = sum(dstat)/len(dstat)\n",
        "#sd = sd(dstat)\n",
        "\n",
        "print(\"mean of age:\",ma)\n",
        "print(\"mean of weight:\",mw)\n",
        "print(\"mean of height:\",mh)\n",
        "print(\"mean of diabetic status:\",md)\n",
        "print(\"-------------\")\n",
        "print(\"sd of age:\",sa)\n",
        "print(\"sd of weight:\",sw)\n",
        "print(\"sd of height:\",sh)\n",
        "print(\"sd of diabetic stat:\",sd)"
      ],
      "execution_count": 94,
      "outputs": [
        {
          "output_type": "stream",
          "text": [
            "mean of age: 47.63636363636363\n",
            "mean of weight: 76.18181818181819\n",
            "mean of height: 5.691818181818181\n",
            "mean of diabetic status: 0.5454545454545454\n",
            "-------------\n",
            "sd of age: 11.526254615205474\n",
            "sd of weight: 7.884391946347946\n",
            "sd of height: 0.2823762802297028\n",
            "sd of diabetic stat: <function sd at 0x7fa869afc488>\n"
          ],
          "name": "stdout"
        }
      ]
    },
    {
      "cell_type": "code",
      "metadata": {
        "id": "dabslnjGOthq",
        "colab_type": "code",
        "outputId": "7eca3003-c13f-421e-d217-c0c0a798ffa6",
        "colab": {
          "base_uri": "https://localhost:8080/",
          "height": 415
        }
      },
      "source": [
        "# calling the scale matrix\n",
        "\n",
        "X = scaleMatrix(X)\n",
        "#Y=scale(Y)\n",
        "\n",
        "print(X)\n",
        "print(\"------\")\n",
        "print(Y)"
      ],
      "execution_count": 95,
      "outputs": [
        {
          "output_type": "stream",
          "text": [
            "[[ 1.         -1.96389585 -2.05238632  0.73724967]\n",
            " [ 1.         -1.8771374  -1.16455628  1.09138706]\n",
            " [ 1.         -0.22872683  0.2306052  -0.67929991]\n",
            " [ 1.          0.72561614  0.48427093  0.73724967]\n",
            " [ 1.          0.63885769  0.61110379  1.09138706]\n",
            " [ 1.          0.72561614  0.35743807 -2.06043575]\n",
            " [ 1.          0.63885769  0.35743807 -1.0334373 ]\n",
            " [ 1.          0.72561614  1.62576669  0.73724967]\n",
            " [ 1.          0.11830698 -0.7840577  -0.32516252]\n",
            " [ 1.          0.11830698 -0.14989338 -0.32516252]\n",
            " [ 1.          0.37858233  0.48427093  0.02897488]]\n",
            "------\n",
            "[[1]\n",
            " [0]\n",
            " [1]\n",
            " [0]\n",
            " [0]\n",
            " [0]\n",
            " [1]\n",
            " [1]\n",
            " [0]\n",
            " [1]\n",
            " [1]]\n"
          ],
          "name": "stdout"
        }
      ]
    },
    {
      "cell_type": "code",
      "metadata": {
        "id": "F71V4CAJPI3a",
        "colab_type": "code",
        "colab": {}
      },
      "source": [
        "# for gradient\n",
        "#apply the gradient \n",
        "def predict(x,beta):\n",
        "  ycap=x.dot(beta)\n",
        "  return ycap\n",
        "\n",
        "def mse(y,ycap):\n",
        "  res=((y-ycap)**2).mean()\n",
        "  return res\n",
        "\n",
        "def derivative(x,y,beta):\n",
        "  ycap=predict(x,beta)\n",
        "  res = (x.T.dot(y-ycap))/y.size\n",
        "  return res\n",
        "\n",
        "def train(x,y,iter,alpha,conv):\n",
        "  beta=np.zeros(x.shape[1])\n",
        "  beta=np.c_[beta]\n",
        "  perr=0\n",
        "  for i in range(iter):\n",
        "    ycap = predict(x,beta)\n",
        "    cerr=mse(y,ycap)\n",
        "\n",
        "    diff = np.abs(perr-cerr)\n",
        "\n",
        "    if i%50==0:\n",
        "      print(\"current error:\", cerr)\n",
        "\n",
        "    j=0\n",
        "    if diff <=conv:\n",
        "      print(\"Training completed:\", i+1 ,\"Iterations\" )\n",
        "      j=1\n",
        "      break\n",
        "    delta = derivative(x,y,beta)\n",
        "    beta = beta +alpha*delta\n",
        "    perr=cerr\n",
        "\n",
        "  if j==0:\n",
        "    print(\"Training not completed\")\n",
        "  return beta"
      ],
      "execution_count": 0,
      "outputs": []
    },
    {
      "cell_type": "code",
      "metadata": {
        "id": "DBYnFiXYPVw0",
        "colab_type": "code",
        "outputId": "8bd9e7a5-9c75-4549-a5d7-ee91aba126dd",
        "colab": {
          "base_uri": "https://localhost:8080/",
          "height": 345
        }
      },
      "source": [
        "# to get the matured coefficients\n",
        "theta=train(X,Y,10000,0.05,0.0000001)"
      ],
      "execution_count": 97,
      "outputs": [
        {
          "output_type": "stream",
          "text": [
            "current error: 0.5454545454545454\n",
            "current error: 0.23329946662769882\n",
            "current error: 0.22220968159384877\n",
            "current error: 0.21637810470300803\n",
            "current error: 0.21274281472930606\n",
            "current error: 0.21047258054184514\n",
            "current error: 0.2090547968427319\n",
            "current error: 0.20816937673645555\n",
            "current error: 0.20761642301941005\n",
            "current error: 0.20727109788952233\n",
            "current error: 0.20705543889012334\n",
            "current error: 0.20692075768682686\n",
            "current error: 0.2068366479275683\n",
            "current error: 0.2067841205411968\n",
            "current error: 0.20675131666274868\n",
            "current error: 0.20673083031237843\n",
            "current error: 0.20671803638155845\n",
            "current error: 0.20671004644372823\n",
            "Training completed: 876 Iterations\n"
          ],
          "name": "stdout"
        }
      ]
    },
    {
      "cell_type": "code",
      "metadata": {
        "id": "TmcK7UNeRIVn",
        "colab_type": "code",
        "outputId": "b9b164a6-0f64-4de7-d0d6-e6f5ff615462",
        "colab": {
          "base_uri": "https://localhost:8080/",
          "height": 86
        }
      },
      "source": [
        "print(theta)"
      ],
      "execution_count": 98,
      "outputs": [
        {
          "output_type": "stream",
          "text": [
            "[[ 0.54545455]\n",
            " [-0.45679474]\n",
            " [ 0.41917797]\n",
            " [-0.16345587]]\n"
          ],
          "name": "stdout"
        }
      ]
    },
    {
      "cell_type": "code",
      "metadata": {
        "id": "lQvRgv4oRKv1",
        "colab_type": "code",
        "colab": {}
      },
      "source": [
        "# in your hand, feature matrix, label matrix and mature coefficients\n",
        "\n",
        "# Now apply the logistic regression equation\n",
        "\n",
        "#develope a logistic regression prediction function\n",
        "def logistic(x,b):\n",
        "  res = 1/(1+np.exp(-x.dot(b)))\n",
        "  return res\n"
      ],
      "execution_count": 0,
      "outputs": []
    },
    {
      "cell_type": "code",
      "metadata": {
        "id": "eGIx1T2b9bKC",
        "colab_type": "code",
        "colab": {
          "base_uri": "https://localhost:8080/",
          "height": 207
        },
        "outputId": "0bed1678-bbe8-4bab-a5f6-339e09669b9e"
      },
      "source": [
        "#apply the prediction function\n",
        "ycap=logistic(X,theta)\n",
        "print(ycap)"
      ],
      "execution_count": 100,
      "outputs": [
        {
          "output_type": "stream",
          "text": [
            "[[0.61342424]\n",
            " [0.6762018 ]\n",
            " [0.7021665 ]\n",
            " [0.57358298]\n",
            " [0.58209885]\n",
            " [0.66832464]\n",
            " [0.639312  ]\n",
            " [0.68459604]\n",
            " [0.55376694]\n",
            " [0.61815637]\n",
            " [0.63894307]]\n"
          ],
          "name": "stdout"
        }
      ]
    },
    {
      "cell_type": "code",
      "metadata": {
        "id": "jUF4uiGtJLGG",
        "colab_type": "code",
        "colab": {
          "base_uri": "https://localhost:8080/",
          "height": 207
        },
        "outputId": "e426254d-d888-4f5c-81d6-a53d63232bda"
      },
      "source": [
        "ycap[ycap<0.6]=0\n",
        "ycap[ycap>0.6]=1\n",
        "print(ycap)"
      ],
      "execution_count": 101,
      "outputs": [
        {
          "output_type": "stream",
          "text": [
            "[[1.]\n",
            " [1.]\n",
            " [1.]\n",
            " [0.]\n",
            " [0.]\n",
            " [1.]\n",
            " [1.]\n",
            " [1.]\n",
            " [0.]\n",
            " [1.]\n",
            " [1.]]\n"
          ],
          "name": "stdout"
        }
      ]
    },
    {
      "cell_type": "code",
      "metadata": {
        "id": "c3gY7BOtJg1d",
        "colab_type": "code",
        "colab": {
          "base_uri": "https://localhost:8080/",
          "height": 207
        },
        "outputId": "32a18986-9252-4503-d8ab-338ff6e5b280"
      },
      "source": [
        "print(Y)"
      ],
      "execution_count": 102,
      "outputs": [
        {
          "output_type": "stream",
          "text": [
            "[[1]\n",
            " [0]\n",
            " [1]\n",
            " [0]\n",
            " [0]\n",
            " [0]\n",
            " [1]\n",
            " [1]\n",
            " [0]\n",
            " [1]\n",
            " [1]]\n"
          ],
          "name": "stdout"
        }
      ]
    },
    {
      "cell_type": "code",
      "metadata": {
        "id": "c051Wq7LIPdu",
        "colab_type": "code",
        "colab": {}
      },
      "source": [
        "#test the accuracy\n",
        "def accuracy_logistic_regression(y,ycap):\n",
        "  r = y==ycap\n",
        "  pcnt = r[r==True].size\n",
        "  n = y.size\n",
        "  return pcnt/n * 100"
      ],
      "execution_count": 0,
      "outputs": []
    },
    {
      "cell_type": "code",
      "metadata": {
        "id": "nKFRKtiXIWq4",
        "colab_type": "code",
        "colab": {
          "base_uri": "https://localhost:8080/",
          "height": 34
        },
        "outputId": "400e13bf-8cbc-4c4f-e9d3-90ca7c63dbc0"
      },
      "source": [
        "accuracy_logistic_regression(Y,ycap)"
      ],
      "execution_count": 104,
      "outputs": [
        {
          "output_type": "execute_result",
          "data": {
            "text/plain": [
              "81.81818181818183"
            ]
          },
          "metadata": {
            "tags": []
          },
          "execution_count": 104
        }
      ]
    },
    {
      "cell_type": "code",
      "metadata": {
        "id": "5oNSbUHcLe6N",
        "colab_type": "code",
        "colab": {}
      },
      "source": [
        "#Final step is, take the new data and do predictions on new data\n",
        "# the new contains only name,age,wgt and hgt.... No diabeticstatus...\n",
        "# now our task is to using the logistic regression model predict the whether the given patient is diabetic or not"
      ],
      "execution_count": 0,
      "outputs": []
    }
  ]
}