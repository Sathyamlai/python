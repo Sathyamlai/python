{
  "nbformat": 4,
  "nbformat_minor": 0,
  "metadata": {
    "colab": {
      "name": "class46_WIP.ipynb",
      "provenance": [],
      "authorship_tag": "ABX9TyNyyF0JxpKKGYurWzlx6cRX",
      "include_colab_link": true
    },
    "kernelspec": {
      "name": "python3",
      "display_name": "Python 3"
    }
  },
  "cells": [
    {
      "cell_type": "markdown",
      "metadata": {
        "id": "view-in-github",
        "colab_type": "text"
      },
      "source": [
        "<a href=\"https://colab.research.google.com/github/Sathyamlai/python/blob/master/class46_WIP.ipynb\" target=\"_parent\"><img src=\"https://colab.research.google.com/assets/colab-badge.svg\" alt=\"Open In Colab\"/></a>"
      ]
    },
    {
      "cell_type": "code",
      "metadata": {
        "id": "MuyVY5qvKWL-",
        "colab_type": "code",
        "colab": {
          "base_uri": "https://localhost:8080/",
          "height": 54
        },
        "outputId": "9786a98c-45d0-47e6-b064-8aa37c439d81"
      },
      "source": [
        "import numpy as np\n",
        "import pandas as pd\n",
        "'''\n",
        "\"name\",\"age\",\"wgt\",\"hgt\",\"diabetic\"\n",
        "aaa,25,60,5.9,yes\n",
        "bbb,26,67,6.0,no\n",
        "ccc,45,78,5.5,yes\n",
        "ddd,56,80,5.9,no\n",
        "eee,55,81,6.0,no\n",
        "fff,56,79,5.11,no\n",
        "ggg,55,79,5.4,yes\n",
        "hhh,56,89,5.9,yes\n",
        "iii,49,70,5.6,no\n",
        "jjj,49,75,5.6,yes\n",
        "kkk,52,80,5.7,yes\n",
        "'''"
      ],
      "execution_count": 1,
      "outputs": [
        {
          "output_type": "execute_result",
          "data": {
            "text/plain": [
              "'\\n\"name\",\"age\",\"wgt\",\"hgt\",\"diabetic\"\\naaa,25,60,5.9,yes\\nbbb,26,67,6.0,no\\nccc,45,78,5.5,yes\\nddd,56,80,5.9,no\\neee,55,81,6.0,no\\nfff,56,79,5.11,no\\nggg,55,79,5.4,yes\\nhhh,56,89,5.9,yes\\niii,49,70,5.6,no\\njjj,49,75,5.6,yes\\nkkk,52,80,5.7,yes\\n'"
            ]
          },
          "metadata": {
            "tags": []
          },
          "execution_count": 1
        }
      ]
    },
    {
      "cell_type": "code",
      "metadata": {
        "id": "LTGeHEkSKaWE",
        "colab_type": "code",
        "colab": {
          "resources": {
            "http://localhost:8080/nbextensions/google.colab/files.js": {
              "data": "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",
              "ok": true,
              "headers": [
                [
                  "content-type",
                  "application/javascript"
                ]
              ],
              "status": 200,
              "status_text": ""
            }
          },
          "base_uri": "https://localhost:8080/",
          "height": 75
        },
        "outputId": "1086f467-6daf-4f82-b8f2-95d216582596"
      },
      "source": [
        "from google.colab import files\n",
        "uploaded = files.upload()"
      ],
      "execution_count": 2,
      "outputs": [
        {
          "output_type": "display_data",
          "data": {
            "text/html": [
              "\n",
              "     <input type=\"file\" id=\"files-837498d4-49e3-43b1-940a-64d9aa16b4c7\" name=\"files[]\" multiple disabled />\n",
              "     <output id=\"result-837498d4-49e3-43b1-940a-64d9aa16b4c7\">\n",
              "      Upload widget is only available when the cell has been executed in the\n",
              "      current browser session. Please rerun this cell to enable.\n",
              "      </output>\n",
              "      <script src=\"/nbextensions/google.colab/files.js\"></script> "
            ],
            "text/plain": [
              "<IPython.core.display.HTML object>"
            ]
          },
          "metadata": {
            "tags": []
          }
        },
        {
          "output_type": "stream",
          "text": [
            "Saving class46_patients_upd.txt to class46_patients_upd.txt\n"
          ],
          "name": "stdout"
        }
      ]
    },
    {
      "cell_type": "code",
      "metadata": {
        "id": "aMDwxz47Khhu",
        "colab_type": "code",
        "colab": {
          "base_uri": "https://localhost:8080/",
          "height": 88
        },
        "outputId": "329a6a32-fc7d-4358-c1fa-9acedce6559b"
      },
      "source": [
        "f=open('class46_patients_upd.txt')\n",
        "h=f.readline()\n",
        "lines=f.readlines()\n",
        "print (h)\n",
        "print (lines)"
      ],
      "execution_count": 3,
      "outputs": [
        {
          "output_type": "stream",
          "text": [
            "\"name\",\"age\",\"wgt\",\"hgt\",\"diabetic\"\n",
            "\n",
            "['aaa,25,60,5.9,yes\\n', 'bbb,26,67,6.0,no\\n', 'ccc,45,78,5.5,yes\\n', 'ddd,56,80,5.9,no\\n', 'eee,55,81,6.0,no\\n', 'fff,56,79,5.11,no\\n', 'ggg,55,79,5.4,yes\\n', 'hhh,56,89,5.9,yes\\n', 'iii,49,70,5.6,no\\n', 'jjj,49,75,5.6,yes\\n', 'kkk,52,80,5.7,yes']\n"
          ],
          "name": "stdout"
        }
      ]
    },
    {
      "cell_type": "code",
      "metadata": {
        "id": "nQQuASCVKjmv",
        "colab_type": "code",
        "colab": {
          "base_uri": "https://localhost:8080/",
          "height": 86
        },
        "outputId": "62920807-0eef-4d60-8851-101bf1367329"
      },
      "source": [
        "age=[]\n",
        "wgt=[]\n",
        "hgt=[]\n",
        "dstat=[]\n",
        "for line in lines:\n",
        "  w=line.strip().split(\",\")\n",
        "  age.append(float(w[1]))\n",
        "  wgt.append(float(w[2]))\n",
        "  hgt.append(float(w[3]))\n",
        "  d=0\n",
        "  if w[-1] == 'yes':\n",
        "       d=1\n",
        "  dstat.append(d)\n",
        "\n",
        "print(age)\n",
        "print(wgt)\n",
        "print(hgt)\n",
        "print(dstat)"
      ],
      "execution_count": 7,
      "outputs": [
        {
          "output_type": "stream",
          "text": [
            "[25.0, 26.0, 45.0, 56.0, 55.0, 56.0, 55.0, 56.0, 49.0, 49.0, 52.0]\n",
            "[60.0, 67.0, 78.0, 80.0, 81.0, 79.0, 79.0, 89.0, 70.0, 75.0, 80.0]\n",
            "[5.9, 6.0, 5.5, 5.9, 6.0, 5.11, 5.4, 5.9, 5.6, 5.6, 5.7]\n",
            "[1, 0, 1, 0, 0, 0, 1, 1, 0, 1, 1]\n"
          ],
          "name": "stdout"
        }
      ]
    },
    {
      "cell_type": "code",
      "metadata": {
        "id": "mcpKoNWXLIzm",
        "colab_type": "code",
        "colab": {
          "base_uri": "https://localhost:8080/",
          "height": 34
        },
        "outputId": "d1970f18-b8ea-46cd-891e-59a5963de5ca"
      },
      "source": [
        "age=np.array(age)\n",
        "wgt=np.array(wgt)\n",
        "hgt=np.array(hgt)\n",
        "dstat=np.array(dstat)\n",
        "\n",
        "ones=np.ones(len(lines))\n",
        "print(ones)"
      ],
      "execution_count": 8,
      "outputs": [
        {
          "output_type": "stream",
          "text": [
            "[1. 1. 1. 1. 1. 1. 1. 1. 1. 1. 1.]\n"
          ],
          "name": "stdout"
        }
      ]
    },
    {
      "cell_type": "code",
      "metadata": {
        "id": "1kq-skMxLpaN",
        "colab_type": "code",
        "colab": {
          "base_uri": "https://localhost:8080/",
          "height": 207
        },
        "outputId": "c06a31a7-1e3b-48e5-8509-2c7b225c074a"
      },
      "source": [
        "X=np.c_[ones,age,wgt,hgt]\n",
        "print(X)"
      ],
      "execution_count": 17,
      "outputs": [
        {
          "output_type": "stream",
          "text": [
            "[[ 1.   25.   60.    5.9 ]\n",
            " [ 1.   26.   67.    6.  ]\n",
            " [ 1.   45.   78.    5.5 ]\n",
            " [ 1.   56.   80.    5.9 ]\n",
            " [ 1.   55.   81.    6.  ]\n",
            " [ 1.   56.   79.    5.11]\n",
            " [ 1.   55.   79.    5.4 ]\n",
            " [ 1.   56.   89.    5.9 ]\n",
            " [ 1.   49.   70.    5.6 ]\n",
            " [ 1.   49.   75.    5.6 ]\n",
            " [ 1.   52.   80.    5.7 ]]\n"
          ],
          "name": "stdout"
        }
      ]
    },
    {
      "cell_type": "code",
      "metadata": {
        "id": "d4dRsxFtLtH7",
        "colab_type": "code",
        "colab": {
          "base_uri": "https://localhost:8080/",
          "height": 207
        },
        "outputId": "47134799-a888-4dc4-ddde-2ac188eab83f"
      },
      "source": [
        "Y=np.c_[dstat]\n",
        "print(Y)"
      ],
      "execution_count": 18,
      "outputs": [
        {
          "output_type": "stream",
          "text": [
            "[[1]\n",
            " [0]\n",
            " [1]\n",
            " [0]\n",
            " [0]\n",
            " [0]\n",
            " [1]\n",
            " [1]\n",
            " [0]\n",
            " [1]\n",
            " [1]]\n"
          ],
          "name": "stdout"
        }
      ]
    },
    {
      "cell_type": "code",
      "metadata": {
        "id": "gwMxtnSOLwJq",
        "colab_type": "code",
        "colab": {}
      },
      "source": [
        "#function for standard deviation\n",
        "'''\n",
        "  #nr = (x#-x.mean())\n",
        "  #nr2 = (nr**2).sum()\n",
        "  #de = (x.size#-1)\n",
        "  #res = (nr2/de)**0.5\n",
        "'''\n",
        "def sd(x):\n",
        "  res = (((x-x.mean())**2).sum()/(x.size-1))**0.5\n",
        "  return res\n",
        "\n",
        "def scale(x):\n",
        "  num = x-x.mean()\n",
        "  den = sd(x)\n",
        "  res = num / den\n",
        "  return res\n",
        "\n",
        "def scaleMatrix(x):\n",
        "  ncol = x.shape[1]\n",
        "  for i in range(ncol):\n",
        "    if i == 0:\n",
        "      continue\n",
        "    c = x[:,i]\n",
        "    x[:,i] = scale(c)\n",
        "  return x"
      ],
      "execution_count": 0,
      "outputs": []
    },
    {
      "cell_type": "code",
      "metadata": {
        "id": "1PGTO6qfNP_Z",
        "colab_type": "code",
        "colab": {
          "base_uri": "https://localhost:8080/",
          "height": 86
        },
        "outputId": "d8cb2e8c-6fb8-4c37-c892-b4da6de43b66"
      },
      "source": [
        "print(age)\n",
        "print(wgt)\n",
        "print(hgt)\n",
        "print(dstat)"
      ],
      "execution_count": 22,
      "outputs": [
        {
          "output_type": "stream",
          "text": [
            "[25. 26. 45. 56. 55. 56. 55. 56. 49. 49. 52.]\n",
            "[60. 67. 78. 80. 81. 79. 79. 89. 70. 75. 80.]\n",
            "[5.9  6.   5.5  5.9  6.   5.11 5.4  5.9  5.6  5.6  5.7 ]\n",
            "[1 0 1 0 0 0 1 1 0 1 1]\n"
          ],
          "name": "stdout"
        }
      ]
    },
    {
      "cell_type": "code",
      "metadata": {
        "id": "0AFEmgLFNvwm",
        "colab_type": "code",
        "colab": {
          "base_uri": "https://localhost:8080/",
          "height": 172
        },
        "outputId": "13b153ff-0a08-4820-e6d2-70902527b7e5"
      },
      "source": [
        "#calculating the mean of age, sd of age and other parameters\n",
        "ma = sum(age)/len(age)\n",
        "#sa = sd(age)\n",
        "\n",
        "mw = sum(wgt)/len(wgt)\n",
        "#sw = sd(wgt)\n",
        "\n",
        "mh = sum(hgt)/len(hgt)\n",
        "#sh = sd(hgt)\n",
        "\n",
        "md = sum(dstat)/len(dstat)\n",
        "#sd = sd(dstat)\n",
        "\n",
        "print(\"mean of age:\",ma)\n",
        "print(\"mean of weight:\",mw)\n",
        "print(\"mean of height:\",mh)\n",
        "print(\"mean of diabetic status:\",md)\n",
        "print(\"-------------\")\n",
        "print(\"sd of age:\",sa)\n",
        "print(\"sd of weight:\",sw)\n",
        "print(\"sd of height:\",sh)\n",
        "print(\"sd of diabetic stat:\",sd)"
      ],
      "execution_count": 30,
      "outputs": [
        {
          "output_type": "stream",
          "text": [
            "mean of age: 47.63636363636363\n",
            "mean of weight: 76.18181818181819\n",
            "mean of height: 5.691818181818181\n",
            "mean of diabetic status: 0.5454545454545454\n",
            "-------------\n",
            "sd of age: 11.526254615205474\n",
            "sd of weight: 7.884391946347946\n",
            "sd of height: 0.2823762802297028\n",
            "sd of diabetic stat: 0.5222329678670935\n"
          ],
          "name": "stdout"
        }
      ]
    },
    {
      "cell_type": "code",
      "metadata": {
        "id": "dabslnjGOthq",
        "colab_type": "code",
        "colab": {
          "base_uri": "https://localhost:8080/",
          "height": 415
        },
        "outputId": "cc1f059c-2d31-4e61-8ece-a1b194a34657"
      },
      "source": [
        "X = scaleMatrix(X)\n",
        "Y=scale(Y)\n",
        "\n",
        "print(X)\n",
        "print(\"------\")\n",
        "print(Y)"
      ],
      "execution_count": 34,
      "outputs": [
        {
          "output_type": "stream",
          "text": [
            "[[ 1.         -1.96389585 -2.05238632  0.73724967]\n",
            " [ 1.         -1.8771374  -1.16455628  1.09138706]\n",
            " [ 1.         -0.22872683  0.2306052  -0.67929991]\n",
            " [ 1.          0.72561614  0.48427093  0.73724967]\n",
            " [ 1.          0.63885769  0.61110379  1.09138706]\n",
            " [ 1.          0.72561614  0.35743807 -2.06043575]\n",
            " [ 1.          0.63885769  0.35743807 -1.0334373 ]\n",
            " [ 1.          0.72561614  1.62576669  0.73724967]\n",
            " [ 1.          0.11830698 -0.7840577  -0.32516252]\n",
            " [ 1.          0.11830698 -0.14989338 -0.32516252]\n",
            " [ 1.          0.37858233  0.48427093  0.02897488]]\n",
            "------\n",
            "[[ 0.87038828]\n",
            " [-1.04446594]\n",
            " [ 0.87038828]\n",
            " [-1.04446594]\n",
            " [-1.04446594]\n",
            " [-1.04446594]\n",
            " [ 0.87038828]\n",
            " [ 0.87038828]\n",
            " [-1.04446594]\n",
            " [ 0.87038828]\n",
            " [ 0.87038828]]\n"
          ],
          "name": "stdout"
        }
      ]
    },
    {
      "cell_type": "code",
      "metadata": {
        "id": "F71V4CAJPI3a",
        "colab_type": "code",
        "colab": {}
      },
      "source": [
        "#apply the gradient \n",
        "def predict(x,beta):\n",
        "  ycap=x.dot(beta)\n",
        "  return ycap\n",
        "\n",
        "def mse(y,ycap):\n",
        "  res=((y-ycap)**2).mean()\n",
        "  return res\n",
        "\n",
        "def derivative(x,y,beta):\n",
        "  ycap=predict(x,beta)\n",
        "  res = (x.T.dot(y-ycap))/y.size\n",
        "  return res\n",
        "\n",
        "def train(x,y,iter,alpha,conv):\n",
        "  beta=np.zeros(x.shape[1])\n",
        "  beta=np.c_[beta]\n",
        "  perr=0\n",
        "  for i in range(iter):\n",
        "    ycap = predict(x,beta)\n",
        "    cerr=mse(y,ycap)\n",
        "\n",
        "    diff = np.abs(perr-cerr)\n",
        "\n",
        "    if i%50==0:\n",
        "      print(\"current error:\", cerr)\n",
        "\n",
        "    j=0\n",
        "    if diff <=conv:\n",
        "      print(\"Training completed:\", i+1 ,\"Iterations\" )\n",
        "      j=1\n",
        "      break\n",
        "    delta = derivative(x,y,beta)\n",
        "    beta = beta +alpha*delta\n",
        "    perr=cerr\n",
        "\n",
        "  if j==0:\n",
        "    print(\"Training not completed\")\n",
        "  return beta"
      ],
      "execution_count": 0,
      "outputs": []
    },
    {
      "cell_type": "code",
      "metadata": {
        "id": "DBYnFiXYPVw0",
        "colab_type": "code",
        "colab": {
          "base_uri": "https://localhost:8080/",
          "height": 397
        },
        "outputId": "43bd462a-88ea-4bce-8824-4d7b01146ebc"
      },
      "source": [
        "theta=train(X,Y,10000,0.05,0.0000001)"
      ],
      "execution_count": 37,
      "outputs": [
        {
          "output_type": "stream",
          "text": [
            "current error: 0.9090909090909091\n",
            "current error: 0.8489726184854404\n",
            "current error: 0.8147305932385073\n",
            "current error: 0.7933861575143009\n",
            "current error: 0.7800569860004006\n",
            "current error: 0.7717327953121632\n",
            "current error: 0.7665342550899701\n",
            "current error: 0.763287714700337\n",
            "current error: 0.761260217737837\n",
            "current error: 0.7599940255949154\n",
            "current error: 0.7592032759304523\n",
            "current error: 0.7587094448516983\n",
            "current error: 0.7584010424010839\n",
            "current error: 0.7582084419843884\n",
            "current error: 0.7580881610967453\n",
            "current error: 0.7580130444787211\n",
            "current error: 0.7579661333990476\n",
            "current error: 0.7579368369603369\n",
            "current error: 0.7579185410411827\n",
            "current error: 0.7579071150565774\n",
            "current error: 0.7578999794148479\n",
            "Training completed: 1014 Iterations\n"
          ],
          "name": "stdout"
        }
      ]
    },
    {
      "cell_type": "code",
      "metadata": {
        "id": "TmcK7UNeRIVn",
        "colab_type": "code",
        "colab": {
          "base_uri": "https://localhost:8080/",
          "height": 86
        },
        "outputId": "3a0f8d88-8e7c-4082-f9a4-1ee5ff8ac818"
      },
      "source": [
        "print(theta)"
      ],
      "execution_count": 38,
      "outputs": [
        {
          "output_type": "stream",
          "text": [
            "[[ 8.02388459e-17]\n",
            " [-8.81682096e-01]\n",
            " [ 8.09086007e-01]\n",
            " [-3.14872703e-01]]\n"
          ],
          "name": "stdout"
        }
      ]
    },
    {
      "cell_type": "code",
      "metadata": {
        "id": "lQvRgv4oRKv1",
        "colab_type": "code",
        "colab": {}
      },
      "source": [
        ""
      ],
      "execution_count": 0,
      "outputs": []
    }
  ]
}