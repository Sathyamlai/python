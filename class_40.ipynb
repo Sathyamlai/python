{
  "nbformat": 4,
  "nbformat_minor": 0,
  "metadata": {
    "colab": {
      "name": "class_40.ipynb",
      "provenance": [],
      "authorship_tag": "ABX9TyMnuYAQmic/4z18yqK1WrAL",
      "include_colab_link": true
    },
    "kernelspec": {
      "name": "python3",
      "display_name": "Python 3"
    }
  },
  "cells": [
    {
      "cell_type": "markdown",
      "metadata": {
        "id": "view-in-github",
        "colab_type": "text"
      },
      "source": [
        "<a href=\"https://colab.research.google.com/github/Sathyamlai/python/blob/master/class_40.ipynb\" target=\"_parent\"><img src=\"https://colab.research.google.com/assets/colab-badge.svg\" alt=\"Open In Colab\"/></a>"
      ]
    },
    {
      "cell_type": "code",
      "metadata": {
        "id": "fBg14rR_WDTZ",
        "colab_type": "code",
        "colab": {}
      },
      "source": [
        "import numpy as np\n",
        "\n",
        "#gradient descent algorithm impl"
      ],
      "execution_count": 0,
      "outputs": []
    },
    {
      "cell_type": "code",
      "metadata": {
        "id": "xZpVZ3m7WRJ_",
        "colab_type": "code",
        "outputId": "53eb0b88-9bcd-4b75-ac5f-27653c3940c7",
        "colab": {
          "base_uri": "https://localhost:8080/",
          "height": 51
        }
      },
      "source": [
        "x=np.arange(5)+1\n",
        "print(x)\n",
        "y=np.array([3,7,5,11,14])\n",
        "print(y)"
      ],
      "execution_count": 2,
      "outputs": [
        {
          "output_type": "stream",
          "text": [
            "[1 2 3 4 5]\n",
            "[ 3  7  5 11 14]\n"
          ],
          "name": "stdout"
        }
      ]
    },
    {
      "cell_type": "code",
      "metadata": {
        "id": "ek7dyRXXWxo8",
        "colab_type": "code",
        "outputId": "899434f3-73f4-461f-b20a-e6340b5aca7e",
        "colab": {
          "base_uri": "https://localhost:8080/",
          "height": 190
        }
      },
      "source": [
        "ones=np.ones(len(x))\n",
        "ones\n",
        "X=np.c_[ones,x]\n",
        "print(X)\n",
        "Y=np.c_[y]\n",
        "print(Y)"
      ],
      "execution_count": 3,
      "outputs": [
        {
          "output_type": "stream",
          "text": [
            "[[1. 1.]\n",
            " [1. 2.]\n",
            " [1. 3.]\n",
            " [1. 4.]\n",
            " [1. 5.]]\n",
            "[[ 3]\n",
            " [ 7]\n",
            " [ 5]\n",
            " [11]\n",
            " [14]]\n"
          ],
          "name": "stdout"
        }
      ]
    },
    {
      "cell_type": "code",
      "metadata": {
        "id": "p352nU_CXPLG",
        "colab_type": "code",
        "outputId": "a3ff9c82-d3e4-41f3-9de6-6a80ce7e9fa1",
        "colab": {
          "base_uri": "https://localhost:8080/",
          "height": 51
        }
      },
      "source": [
        "beta=np.zeros(X.shape[1])\n",
        "beta\n",
        "beta=np.c_[beta]\n",
        "beta"
      ],
      "execution_count": 4,
      "outputs": [
        {
          "output_type": "execute_result",
          "data": {
            "text/plain": [
              "array([[0.],\n",
              "       [0.]])"
            ]
          },
          "metadata": {
            "tags": []
          },
          "execution_count": 4
        }
      ]
    },
    {
      "cell_type": "code",
      "metadata": {
        "id": "9EopFh6wXqri",
        "colab_type": "code",
        "colab": {}
      },
      "source": [
        "def predict(x,beta):\n",
        "  ycap=x.dot(beta)\n",
        "  return ycap"
      ],
      "execution_count": 0,
      "outputs": []
    },
    {
      "cell_type": "code",
      "metadata": {
        "id": "0ma01i6jXz6J",
        "colab_type": "code",
        "colab": {}
      },
      "source": [
        "def mse(y,ycap):\n",
        "  res=((y-ycap)**2).mean()\n",
        "  return res"
      ],
      "execution_count": 0,
      "outputs": []
    },
    {
      "cell_type": "code",
      "metadata": {
        "id": "w8o9gSMAYnmP",
        "colab_type": "code",
        "colab": {}
      },
      "source": [
        "def derivative(x,y,beta):\n",
        "  ycap=predict(x,beta)\n",
        "  res = (x.T.dot(y-ycap))/y.size\n",
        "  return res"
      ],
      "execution_count": 0,
      "outputs": []
    },
    {
      "cell_type": "code",
      "metadata": {
        "id": "UmkqiwhdZxJ_",
        "colab_type": "code",
        "outputId": "68e98f5f-48fa-44db-ef36-7a44e6f909a9",
        "colab": {
          "base_uri": "https://localhost:8080/",
          "height": 34
        }
      },
      "source": [
        "ycap=predict(X,beta)\n",
        "#print(ycap)\n",
        "error1 = mse(Y,ycap)\n",
        "print(\"1st iteration Error :\", error1)"
      ],
      "execution_count": 8,
      "outputs": [
        {
          "output_type": "stream",
          "text": [
            "1st iteration Error : 80.0\n"
          ],
          "name": "stdout"
        }
      ]
    },
    {
      "cell_type": "code",
      "metadata": {
        "id": "PrGhs8fAaWag",
        "colab_type": "code",
        "outputId": "db53777f-201c-437a-ca75-2429c2e1c7b8",
        "colab": {
          "base_uri": "https://localhost:8080/",
          "height": 51
        }
      },
      "source": [
        "delta=derivative(X,Y,beta)\n",
        "print(delta)"
      ],
      "execution_count": 9,
      "outputs": [
        {
          "output_type": "stream",
          "text": [
            "[[ 8. ]\n",
            " [29.2]]\n"
          ],
          "name": "stdout"
        }
      ]
    },
    {
      "cell_type": "code",
      "metadata": {
        "id": "4KxNbMHaanLX",
        "colab_type": "code",
        "outputId": "d2dd15a4-dbab-4aa9-85da-86283a3c3af3",
        "colab": {
          "base_uri": "https://localhost:8080/",
          "height": 51
        }
      },
      "source": [
        "beta = beta+0.05*delta\n",
        "print(beta)"
      ],
      "execution_count": 10,
      "outputs": [
        {
          "output_type": "stream",
          "text": [
            "[[0.4 ]\n",
            " [1.46]]\n"
          ],
          "name": "stdout"
        }
      ]
    },
    {
      "cell_type": "code",
      "metadata": {
        "id": "8TVI4Zm7a2aI",
        "colab_type": "code",
        "outputId": "ad8908c5-ab9a-41f5-b445-2a72716b1587",
        "colab": {
          "base_uri": "https://localhost:8080/",
          "height": 103
        }
      },
      "source": [
        "ycap=predict(X,beta)\n",
        "print(ycap)"
      ],
      "execution_count": 11,
      "outputs": [
        {
          "output_type": "stream",
          "text": [
            "[[1.86]\n",
            " [3.32]\n",
            " [4.78]\n",
            " [6.24]\n",
            " [7.7 ]]\n"
          ],
          "name": "stdout"
        }
      ]
    },
    {
      "cell_type": "code",
      "metadata": {
        "id": "TTYhlHTlbGvw",
        "colab_type": "code",
        "outputId": "319f4ff9-db57-49da-b515-bd711e82dd38",
        "colab": {
          "base_uri": "https://localhost:8080/",
          "height": 34
        }
      },
      "source": [
        "error2 = mse(Y,ycap)\n",
        "print(\"2nd iteration Error:\", error2)"
      ],
      "execution_count": 12,
      "outputs": [
        {
          "output_type": "stream",
          "text": [
            "2nd iteration Error: 15.4476\n"
          ],
          "name": "stdout"
        }
      ]
    },
    {
      "cell_type": "code",
      "metadata": {
        "id": "NV45g67LbVRV",
        "colab_type": "code",
        "outputId": "2aaa64cb-eac7-4327-bf42-1205d7943e4d",
        "colab": {
          "base_uri": "https://localhost:8080/",
          "height": 51
        }
      },
      "source": [
        "delta=derivative(X,Y,beta)\n",
        "print(delta)"
      ],
      "execution_count": 13,
      "outputs": [
        {
          "output_type": "stream",
          "text": [
            "[[ 3.22]\n",
            " [11.94]]\n"
          ],
          "name": "stdout"
        }
      ]
    },
    {
      "cell_type": "code",
      "metadata": {
        "id": "XeIWYYcCblwF",
        "colab_type": "code",
        "outputId": "5b81367b-cd8a-43cb-dd86-0102b6fbaf42",
        "colab": {
          "base_uri": "https://localhost:8080/",
          "height": 51
        }
      },
      "source": [
        "beta=beta+0.05*delta\n",
        "print(beta)"
      ],
      "execution_count": 14,
      "outputs": [
        {
          "output_type": "stream",
          "text": [
            "[[0.561]\n",
            " [2.057]]\n"
          ],
          "name": "stdout"
        }
      ]
    },
    {
      "cell_type": "code",
      "metadata": {
        "id": "IO3b_GTldKLp",
        "colab_type": "code",
        "colab": {}
      },
      "source": [
        "ycap=predict(X,beta)"
      ],
      "execution_count": 0,
      "outputs": []
    },
    {
      "cell_type": "code",
      "metadata": {
        "id": "_TVNL65ZbybW",
        "colab_type": "code",
        "outputId": "321a8f19-29f2-4b8f-cd78-623e89568598",
        "colab": {
          "base_uri": "https://localhost:8080/",
          "height": 34
        }
      },
      "source": [
        "error3 = mse(Y,ycap)\n",
        "print(\"3rd iteration error:\",error3)"
      ],
      "execution_count": 16,
      "outputs": [
        {
          "output_type": "stream",
          "text": [
            "3rd iteration error: 4.677522\n"
          ],
          "name": "stdout"
        }
      ]
    },
    {
      "cell_type": "code",
      "metadata": {
        "id": "3WJblXWGchE7",
        "colab_type": "code",
        "outputId": "d21989af-2123-4d5d-a825-722e75e7e9d2",
        "colab": {
          "base_uri": "https://localhost:8080/",
          "height": 68
        }
      },
      "source": [
        "print(\"1st iteration error\",error1)\n",
        "print(\"2nd iteration error\",error2)\n",
        "print(\"3rd iteration error\",error3)"
      ],
      "execution_count": 17,
      "outputs": [
        {
          "output_type": "stream",
          "text": [
            "1st iteration error 80.0\n",
            "2nd iteration error 15.4476\n",
            "3rd iteration error 4.677522\n"
          ],
          "name": "stdout"
        }
      ]
    },
    {
      "cell_type": "code",
      "metadata": {
        "id": "JRGL_WiSdbEa",
        "colab_type": "code",
        "colab": {}
      },
      "source": [
        "def train(x,y,iter,alpha,conv):\n",
        "  beta=np.zeros(x.shape[1])\n",
        "  beta=np.c_[beta]\n",
        "  perr=0\n",
        "  for i in range(iter):\n",
        "    ycap = predict(x,beta)\n",
        "    cerr=mse(y,ycap)\n",
        "\n",
        "    diff = np.abs(perr-cerr)\n",
        "\n",
        "    if i%50==0:\n",
        "      print(\"current error:\", cerr)\n",
        "\n",
        "    j=0\n",
        "    if diff <=conv:\n",
        "      print(\"Training completed:\", i+1 ,\"Iterations\" )\n",
        "      j=1\n",
        "      break\n",
        "    delta = derivative(x,y,beta)\n",
        "    beta = beta +alpha*delta\n",
        "    perr=cerr\n",
        "\n",
        "  if j==0:\n",
        "    print(\"Training not completed\")\n",
        "  return beta"
      ],
      "execution_count": 0,
      "outputs": []
    },
    {
      "cell_type": "code",
      "metadata": {
        "id": "2xfQRmAtfoRA",
        "colab_type": "code",
        "outputId": "9936fc7f-7253-4c6d-b33b-daaee8d87c0d",
        "colab": {
          "base_uri": "https://localhost:8080/",
          "height": 224
        }
      },
      "source": [
        "theta=train(X,Y,1000,0.05,0.0000001)"
      ],
      "execution_count": 19,
      "outputs": [
        {
          "output_type": "stream",
          "text": [
            "current error: 80.0\n",
            "current error: 2.498177539540115\n",
            "current error: 2.48777842441168\n",
            "current error: 2.4833284970275917\n",
            "current error: 2.4814243106156626\n",
            "current error: 2.4806094825121\n",
            "current error: 2.4802608061250617\n",
            "current error: 2.4801116026030607\n",
            "current error: 2.4800477563209316\n",
            "current error: 2.4800204356003044\n",
            "current error: 2.480008744680319\n",
            "Training completed: 525 Iterations\n"
          ],
          "name": "stdout"
        }
      ]
    },
    {
      "cell_type": "code",
      "metadata": {
        "id": "TNt0eqGI2iYm",
        "colab_type": "code",
        "colab": {
          "base_uri": "https://localhost:8080/",
          "height": 51
        },
        "outputId": "ef1f13eb-a8e7-4523-c725-b23b3f4580a3"
      },
      "source": [
        "print(theta)"
      ],
      "execution_count": 20,
      "outputs": [
        {
          "output_type": "stream",
          "text": [
            "[[0.20565381]\n",
            " [2.59843399]]\n"
          ],
          "name": "stdout"
        }
      ]
    }
  ]
}