{
  "nbformat": 4,
  "nbformat_minor": 0,
  "metadata": {
    "colab": {
      "name": "class_40.ipynb",
      "provenance": [],
      "authorship_tag": "ABX9TyNVOXxCFi/gmL3+R0xhnNTV",
      "include_colab_link": true
    },
    "kernelspec": {
      "name": "python3",
      "display_name": "Python 3"
    }
  },
  "cells": [
    {
      "cell_type": "markdown",
      "metadata": {
        "id": "view-in-github",
        "colab_type": "text"
      },
      "source": [
        "<a href=\"https://colab.research.google.com/github/Sathyamlai/python/blob/master/class_40.ipynb\" target=\"_parent\"><img src=\"https://colab.research.google.com/assets/colab-badge.svg\" alt=\"Open In Colab\"/></a>"
      ]
    },
    {
      "cell_type": "code",
      "metadata": {
        "id": "fBg14rR_WDTZ",
        "colab_type": "code",
        "colab": {}
      },
      "source": [
        "import numpy as np\n",
        "\n",
        "#gradient descent algorithm impl"
      ],
      "execution_count": 0,
      "outputs": []
    },
    {
      "cell_type": "code",
      "metadata": {
        "id": "xZpVZ3m7WRJ_",
        "colab_type": "code",
        "colab": {
          "base_uri": "https://localhost:8080/",
          "height": 51
        },
        "outputId": "4b3ba6f2-8d28-4a9b-a15a-8147b49a0337"
      },
      "source": [
        "x=np.arange(5)+1\n",
        "print(x)\n",
        "y=np.array([3,7,5,11,14])\n",
        "print(y)"
      ],
      "execution_count": 97,
      "outputs": [
        {
          "output_type": "stream",
          "text": [
            "[1 2 3 4 5]\n",
            "[ 3  7  5 11 14]\n"
          ],
          "name": "stdout"
        }
      ]
    },
    {
      "cell_type": "code",
      "metadata": {
        "id": "ek7dyRXXWxo8",
        "colab_type": "code",
        "colab": {
          "base_uri": "https://localhost:8080/",
          "height": 190
        },
        "outputId": "319d150d-cd22-4628-90d3-1d27a2bfc417"
      },
      "source": [
        "ones=np.ones(len(x))\n",
        "ones\n",
        "X=np.c_[ones,x]\n",
        "print(X)\n",
        "Y=np.c_[y]\n",
        "print(Y)"
      ],
      "execution_count": 98,
      "outputs": [
        {
          "output_type": "stream",
          "text": [
            "[[1. 1.]\n",
            " [1. 2.]\n",
            " [1. 3.]\n",
            " [1. 4.]\n",
            " [1. 5.]]\n",
            "[[ 3]\n",
            " [ 7]\n",
            " [ 5]\n",
            " [11]\n",
            " [14]]\n"
          ],
          "name": "stdout"
        }
      ]
    },
    {
      "cell_type": "code",
      "metadata": {
        "id": "p352nU_CXPLG",
        "colab_type": "code",
        "colab": {
          "base_uri": "https://localhost:8080/",
          "height": 51
        },
        "outputId": "071cd3ec-2c90-48d1-cf96-d5f075a3ec63"
      },
      "source": [
        "beta=np.zeros(X.shape[1])\n",
        "beta\n",
        "beta=np.c_[beta]\n",
        "beta"
      ],
      "execution_count": 99,
      "outputs": [
        {
          "output_type": "execute_result",
          "data": {
            "text/plain": [
              "array([[0.],\n",
              "       [0.]])"
            ]
          },
          "metadata": {
            "tags": []
          },
          "execution_count": 99
        }
      ]
    },
    {
      "cell_type": "code",
      "metadata": {
        "id": "9EopFh6wXqri",
        "colab_type": "code",
        "colab": {}
      },
      "source": [
        "def predict(x,beta):\n",
        "  ycap=x.dot(beta)\n",
        "  return ycap"
      ],
      "execution_count": 0,
      "outputs": []
    },
    {
      "cell_type": "code",
      "metadata": {
        "id": "0ma01i6jXz6J",
        "colab_type": "code",
        "colab": {}
      },
      "source": [
        "def mse(y,ycap):\n",
        "  res=((y-ycap)**2).mean()\n",
        "  return res"
      ],
      "execution_count": 0,
      "outputs": []
    },
    {
      "cell_type": "code",
      "metadata": {
        "id": "w8o9gSMAYnmP",
        "colab_type": "code",
        "colab": {}
      },
      "source": [
        "def derivative(x,y,beta):\n",
        "  ycap=predict(x,beta)\n",
        "  res = (x.T.dot(y-ycap))/y.size\n",
        "  return res"
      ],
      "execution_count": 0,
      "outputs": []
    },
    {
      "cell_type": "code",
      "metadata": {
        "id": "UmkqiwhdZxJ_",
        "colab_type": "code",
        "colab": {
          "base_uri": "https://localhost:8080/",
          "height": 34
        },
        "outputId": "80856e37-293d-4e40-a533-ec6c1ba61d95"
      },
      "source": [
        "ycap=predict(X,beta)\n",
        "#print(ycap)\n",
        "error1 = mse(Y,ycap)\n",
        "print(\"1st iteration Error :\", error1)"
      ],
      "execution_count": 103,
      "outputs": [
        {
          "output_type": "stream",
          "text": [
            "1st iteration Error : 80.0\n"
          ],
          "name": "stdout"
        }
      ]
    },
    {
      "cell_type": "code",
      "metadata": {
        "id": "PrGhs8fAaWag",
        "colab_type": "code",
        "colab": {
          "base_uri": "https://localhost:8080/",
          "height": 51
        },
        "outputId": "4d457286-3693-4e17-db01-263952115abd"
      },
      "source": [
        "delta=derivative(X,Y,beta)\n",
        "print(delta)"
      ],
      "execution_count": 104,
      "outputs": [
        {
          "output_type": "stream",
          "text": [
            "[[ 8. ]\n",
            " [29.2]]\n"
          ],
          "name": "stdout"
        }
      ]
    },
    {
      "cell_type": "code",
      "metadata": {
        "id": "4KxNbMHaanLX",
        "colab_type": "code",
        "colab": {
          "base_uri": "https://localhost:8080/",
          "height": 51
        },
        "outputId": "ed7e8c79-ff62-4559-e1d1-0d1b3c574c93"
      },
      "source": [
        "beta = beta+0.05*delta\n",
        "print(beta)"
      ],
      "execution_count": 105,
      "outputs": [
        {
          "output_type": "stream",
          "text": [
            "[[0.4 ]\n",
            " [1.46]]\n"
          ],
          "name": "stdout"
        }
      ]
    },
    {
      "cell_type": "code",
      "metadata": {
        "id": "8TVI4Zm7a2aI",
        "colab_type": "code",
        "colab": {
          "base_uri": "https://localhost:8080/",
          "height": 103
        },
        "outputId": "2bbe13dc-342e-4328-d6a3-afc586a28a81"
      },
      "source": [
        "ycap=predict(X,beta)\n",
        "print(ycap)"
      ],
      "execution_count": 106,
      "outputs": [
        {
          "output_type": "stream",
          "text": [
            "[[1.86]\n",
            " [3.32]\n",
            " [4.78]\n",
            " [6.24]\n",
            " [7.7 ]]\n"
          ],
          "name": "stdout"
        }
      ]
    },
    {
      "cell_type": "code",
      "metadata": {
        "id": "TTYhlHTlbGvw",
        "colab_type": "code",
        "colab": {
          "base_uri": "https://localhost:8080/",
          "height": 34
        },
        "outputId": "e4969fb7-62dc-43e0-c0ae-59c27ed7720d"
      },
      "source": [
        "error2 = mse(Y,ycap)\n",
        "print(\"2nd iteration Error:\", error2)"
      ],
      "execution_count": 107,
      "outputs": [
        {
          "output_type": "stream",
          "text": [
            "2nd iteration Error: 15.4476\n"
          ],
          "name": "stdout"
        }
      ]
    },
    {
      "cell_type": "code",
      "metadata": {
        "id": "NV45g67LbVRV",
        "colab_type": "code",
        "colab": {
          "base_uri": "https://localhost:8080/",
          "height": 51
        },
        "outputId": "6ab3309e-77c3-40a9-804d-e82449dd708f"
      },
      "source": [
        "delta=derivative(X,Y,beta)\n",
        "print(delta)"
      ],
      "execution_count": 108,
      "outputs": [
        {
          "output_type": "stream",
          "text": [
            "[[ 3.22]\n",
            " [11.94]]\n"
          ],
          "name": "stdout"
        }
      ]
    },
    {
      "cell_type": "code",
      "metadata": {
        "id": "XeIWYYcCblwF",
        "colab_type": "code",
        "colab": {
          "base_uri": "https://localhost:8080/",
          "height": 51
        },
        "outputId": "49921533-6c07-47a8-8233-0bc950d4e508"
      },
      "source": [
        "beta=beta+0.05*delta\n",
        "print(beta)"
      ],
      "execution_count": 109,
      "outputs": [
        {
          "output_type": "stream",
          "text": [
            "[[0.561]\n",
            " [2.057]]\n"
          ],
          "name": "stdout"
        }
      ]
    },
    {
      "cell_type": "code",
      "metadata": {
        "id": "IO3b_GTldKLp",
        "colab_type": "code",
        "colab": {}
      },
      "source": [
        "ycap=predict(X,beta)"
      ],
      "execution_count": 0,
      "outputs": []
    },
    {
      "cell_type": "code",
      "metadata": {
        "id": "_TVNL65ZbybW",
        "colab_type": "code",
        "colab": {
          "base_uri": "https://localhost:8080/",
          "height": 34
        },
        "outputId": "cabddc2e-7562-49d6-d15f-7a56a537076b"
      },
      "source": [
        "error3 = mse(Y,ycap)\n",
        "print(\"3rd iteration error:\",error3)"
      ],
      "execution_count": 111,
      "outputs": [
        {
          "output_type": "stream",
          "text": [
            "3rd iteration error: 4.677522\n"
          ],
          "name": "stdout"
        }
      ]
    },
    {
      "cell_type": "code",
      "metadata": {
        "id": "3WJblXWGchE7",
        "colab_type": "code",
        "colab": {
          "base_uri": "https://localhost:8080/",
          "height": 68
        },
        "outputId": "382f2456-3a5c-4658-dfa9-c213f87a963c"
      },
      "source": [
        "print(\"1st iteration error\",error1)\n",
        "print(\"2nd iteration error\",error2)\n",
        "print(\"3rd iteration error\",error3)"
      ],
      "execution_count": 112,
      "outputs": [
        {
          "output_type": "stream",
          "text": [
            "1st iteration error 80.0\n",
            "2nd iteration error 15.4476\n",
            "3rd iteration error 4.677522\n"
          ],
          "name": "stdout"
        }
      ]
    },
    {
      "cell_type": "code",
      "metadata": {
        "id": "JRGL_WiSdbEa",
        "colab_type": "code",
        "colab": {}
      },
      "source": [
        "def train(x,y,iter,alpha,conv):\n",
        "  beta=np.zeros(x.shape[1])\n",
        "  beta=np.c_[beta]\n",
        "  perr=0\n",
        "  for i in range(iter):\n",
        "    ycap = predict(x,beta)\n",
        "    cerr=mse(y,ycap)\n",
        "\n",
        "    diff = np.abs(perr-cerr)\n",
        "\n",
        "    if i%50==0:\n",
        "      print(\"current error:\", cerr)\n",
        "\n",
        "    j=0\n",
        "    if diff <=conv:\n",
        "      print(\"Training completed:\", i+1 ,\"Iterations\" )\n",
        "      j=1\n",
        "      break\n",
        "    delta = derivative(x,y,beta)\n",
        "    beta = beta +alpha*delta\n",
        "    perr=cerr\n",
        "\n",
        "  if j==0:\n",
        "    print(\"Training not completed\")\n",
        "  return beta"
      ],
      "execution_count": 0,
      "outputs": []
    },
    {
      "cell_type": "code",
      "metadata": {
        "id": "2xfQRmAtfoRA",
        "colab_type": "code",
        "colab": {
          "base_uri": "https://localhost:8080/",
          "height": 224
        },
        "outputId": "6ac10dcd-6b3f-4502-ccad-2af700f2709f"
      },
      "source": [
        "theta=train(X,Y,1000,0.05,0.0000001)"
      ],
      "execution_count": 122,
      "outputs": [
        {
          "output_type": "stream",
          "text": [
            "current error: 80.0\n",
            "current error: 2.498177539540115\n",
            "current error: 2.48777842441168\n",
            "current error: 2.4833284970275917\n",
            "current error: 2.4814243106156626\n",
            "current error: 2.4806094825121\n",
            "current error: 2.4802608061250617\n",
            "current error: 2.4801116026030607\n",
            "current error: 2.4800477563209316\n",
            "current error: 2.4800204356003044\n",
            "current error: 2.480008744680319\n",
            "Training completed: 525 Iterations\n"
          ],
          "name": "stdout"
        }
      ]
    }
  ]
}